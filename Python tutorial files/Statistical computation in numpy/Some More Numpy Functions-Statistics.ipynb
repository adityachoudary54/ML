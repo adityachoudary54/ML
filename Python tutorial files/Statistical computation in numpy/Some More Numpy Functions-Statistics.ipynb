{
 "cells": [
  {
   "cell_type": "markdown",
   "metadata": {},
   "source": [
    "# Some more numpy functions\n",
    "- min,max\n",
    "- mean\n",
    "- median\n",
    "- average\n",
    "- variance\n",
    "- standard deviation"
   ]
  },
  {
   "cell_type": "code",
   "execution_count": 1,
   "metadata": {},
   "outputs": [],
   "source": [
    "import numpy as np"
   ]
  },
  {
   "cell_type": "code",
   "execution_count": 8,
   "metadata": {},
   "outputs": [
    {
     "name": "stdout",
     "output_type": "stream",
     "text": [
      "[[1 2 3 4]\n",
      " [7 6 2 0]]\n",
      "0\n",
      "[1 2 2 0]\n",
      "[1 0]\n"
     ]
    }
   ],
   "source": [
    "a=np.array([[1,2,3,4],[7,6,2,0]])\n",
    "print(a)\n",
    "print(np.min(a))\n",
    "#specify axis for the direction\n",
    "print(np.min(a,axis=0))\n",
    "print(np.min(a,axis=1))"
   ]
  },
  {
   "cell_type": "code",
   "execution_count": 17,
   "metadata": {},
   "outputs": [],
   "source": [
    "# mean\n",
    "b=np.array([1,2,3,4,5])\n",
    "n=sum(b)/len(b)"
   ]
  },
  {
   "cell_type": "code",
   "execution_count": 24,
   "metadata": {},
   "outputs": [
    {
     "name": "stdout",
     "output_type": "stream",
     "text": [
      "[4.  4.  2.5 2. ]\n",
      "[2.5  3.75]\n",
      "[4.  4.  2.5 2. ]\n"
     ]
    }
   ],
   "source": [
    "print(np.mean(a,axis=0))\n",
    "print(np.mean(a,axis=1))\n",
    "print(sum(a)/len(a))"
   ]
  },
  {
   "cell_type": "code",
   "execution_count": 25,
   "metadata": {},
   "outputs": [
    {
     "name": "stdout",
     "output_type": "stream",
     "text": [
      "2.0\n"
     ]
    }
   ],
   "source": [
    "c=np.array([1,2,4,5,0])\n",
    "print(np.median(c))"
   ]
  },
  {
   "cell_type": "code",
   "execution_count": 31,
   "metadata": {},
   "outputs": [
    {
     "name": "stdout",
     "output_type": "stream",
     "text": [
      "2.4\n",
      "2.466666666666667\n"
     ]
    }
   ],
   "source": [
    "# mean vs average which is weighted\n",
    "print(np.mean(c))\n",
    "w=[10,20,30,40,50]\n",
    "print(np.average(c,weights=w))"
   ]
  },
  {
   "cell_type": "code",
   "execution_count": 36,
   "metadata": {},
   "outputs": [
    {
     "name": "stdout",
     "output_type": "stream",
     "text": [
      "1.854723699099141\n",
      "1.854723699099141\n",
      "3.440000000000001\n",
      "3.4400000000000004\n"
     ]
    }
   ],
   "source": [
    "#standard deviation\n",
    "u=np.mean(c)\n",
    "myStd=np.sqrt(np.mean(abs(c-u)**2))\n",
    "print(myStd)\n",
    "\n",
    "#Inbuilt Function for standard deviation\n",
    "dev=np.std(c)\n",
    "print(dev)\n",
    "\n",
    "#variance\n",
    "v=myStd**2\n",
    "print(v)\n",
    "print(np.var(c))"
   ]
  },
  {
   "cell_type": "code",
   "execution_count": null,
   "metadata": {},
   "outputs": [],
   "source": []
  }
 ],
 "metadata": {
  "kernelspec": {
   "display_name": "Python 3",
   "language": "python",
   "name": "python3"
  },
  "language_info": {
   "codemirror_mode": {
    "name": "ipython",
    "version": 3
   },
   "file_extension": ".py",
   "mimetype": "text/x-python",
   "name": "python",
   "nbconvert_exporter": "python",
   "pygments_lexer": "ipython3",
   "version": "3.6.5"
  }
 },
 "nbformat": 4,
 "nbformat_minor": 2
}
