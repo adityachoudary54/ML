{
 "cells": [
  {
   "cell_type": "code",
   "execution_count": 1,
   "metadata": {},
   "outputs": [
    {
     "name": "stdout",
     "output_type": "stream",
     "text": [
      "10\n",
      "0 1 1 2 3 5 8 "
     ]
    }
   ],
   "source": [
    "def fibonacci(n):\n",
    "    first=0\n",
    "    second=1\n",
    "    i=1\n",
    "    if(n>=0):\n",
    "        print(0,end=\" \")\n",
    "    if(n>=1):\n",
    "        print(1,end=\" \")\n",
    "    while(second<=n):\n",
    "        t=second\n",
    "        second=first+second\n",
    "        first=t\n",
    "        i+=1\n",
    "        if(second<=n):\n",
    "            print(second,end=\" \")\n",
    "fibonacci(int(input()))"
   ]
  },
  {
   "cell_type": "code",
   "execution_count": null,
   "metadata": {},
   "outputs": [],
   "source": []
  }
 ],
 "metadata": {
  "kernelspec": {
   "display_name": "Python 3",
   "language": "python",
   "name": "python3"
  },
  "language_info": {
   "codemirror_mode": {
    "name": "ipython",
    "version": 3
   },
   "file_extension": ".py",
   "mimetype": "text/x-python",
   "name": "python",
   "nbconvert_exporter": "python",
   "pygments_lexer": "ipython3",
   "version": "3.6.5"
  }
 },
 "nbformat": 4,
 "nbformat_minor": 2
}
