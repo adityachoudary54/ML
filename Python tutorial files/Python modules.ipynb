{
 "cells": [
  {
   "cell_type": "markdown",
   "metadata": {},
   "source": [
    "# features of module\n",
    "- Reusability of code\n",
    "- various methods to build module\n",
    "- modules can be imported by another program\n",
    "- python has standard library of modules"
   ]
  },
  {
   "cell_type": "code",
   "execution_count": 2,
   "metadata": {},
   "outputs": [],
   "source": [
    "a=2+7j"
   ]
  },
  {
   "cell_type": "code",
   "execution_count": 3,
   "metadata": {},
   "outputs": [
    {
     "data": {
      "text/plain": [
       "complex"
      ]
     },
     "execution_count": 3,
     "metadata": {},
     "output_type": "execute_result"
    }
   ],
   "source": [
    "type(a)"
   ]
  },
  {
   "cell_type": "code",
   "execution_count": 15,
   "metadata": {},
   "outputs": [
    {
     "name": "stdout",
     "output_type": "stream",
     "text": [
      "This program finds the real solutions to a quadratic\n",
      "\n",
      "Please enter the coefficients (a, b, c): 121\n",
      "\n",
      "The solutions are:  -1.0 -1.0\n"
     ]
    }
   ],
   "source": [
    "import math\n",
    "def main():\n",
    "    print (\"This program finds the real solutions to a quadratic\")\n",
    "    print()\n",
    "\n",
    "    a, b, c = input(\"Please enter the coefficients (a, b, c): \")\n",
    "    a=int(a)\n",
    "    b=int(b)\n",
    "    c=int(c)\n",
    "    discRoot = math.sqrt(b * b - 4 * a * c)\n",
    "    root1 = (-b +discRoot) / (2 * a)\n",
    "    root2 = (-b +discRoot) / (2 * a)\n",
    "\n",
    "    print ()\n",
    "    print (\"The solutions are: \", root1 , root2 )\n",
    "\n",
    "main()"
   ]
  },
  {
   "cell_type": "code",
   "execution_count": 17,
   "metadata": {},
   "outputs": [
    {
     "data": {
      "text/plain": [
       "3.1622776601683795"
      ]
     },
     "execution_count": 17,
     "metadata": {},
     "output_type": "execute_result"
    }
   ],
   "source": [
    "math.sqrt(10)"
   ]
  },
  {
   "cell_type": "code",
   "execution_count": null,
   "metadata": {},
   "outputs": [],
   "source": []
  }
 ],
 "metadata": {
  "kernelspec": {
   "display_name": "Python 3",
   "language": "python",
   "name": "python3"
  },
  "language_info": {
   "codemirror_mode": {
    "name": "ipython",
    "version": 3
   },
   "file_extension": ".py",
   "mimetype": "text/x-python",
   "name": "python",
   "nbconvert_exporter": "python",
   "pygments_lexer": "ipython3",
   "version": "3.6.5"
  }
 },
 "nbformat": 4,
 "nbformat_minor": 2
}
