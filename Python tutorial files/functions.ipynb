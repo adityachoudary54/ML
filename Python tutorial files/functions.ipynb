{
 "cells": [
  {
   "cell_type": "code",
   "execution_count": 2,
   "metadata": {},
   "outputs": [
    {
     "name": "stdout",
     "output_type": "stream",
     "text": [
      "I love coding\n"
     ]
    }
   ],
   "source": [
    "def say(x):\n",
    "    print(\"I love \"+x)\n",
    "say(\"coding\")"
   ]
  },
  {
   "cell_type": "code",
   "execution_count": 5,
   "metadata": {},
   "outputs": [],
   "source": [
    "def fact(n):\n",
    "    if(n==0):\n",
    "        return 1\n",
    "    else:\n",
    "        return n*fact(n-1)"
   ]
  },
  {
   "cell_type": "code",
   "execution_count": 10,
   "metadata": {},
   "outputs": [
    {
     "name": "stdout",
     "output_type": "stream",
     "text": [
      "Enter the number whose factorial is wanted:5\n",
      "120\n"
     ]
    }
   ],
   "source": [
    "n=int(input(\"Enter the number whose factorial is wanted:\"))\n",
    "print(fact(n))"
   ]
  },
  {
   "cell_type": "code",
   "execution_count": 46,
   "metadata": {},
   "outputs": [
    {
     "name": "stdout",
     "output_type": "stream",
     "text": [
      "5\n",
      "3\n",
      "6\n",
      "4\n",
      "1\n",
      "2\n",
      "1 2 3 4 6 "
     ]
    }
   ],
   "source": [
    "n=int(input())\n",
    "i=1\n",
    "a=[]\n",
    "while(i<=n):\n",
    "    x=int(input())\n",
    "    a.append(x)\n",
    "    i+=1\n",
    "def createpivot(a,start,end):\n",
    "    i=start\n",
    "    pivotval=a[end]\n",
    "    pivot=start\n",
    "    while(i<=end-1):\n",
    "        if a[i]<=pivotval:\n",
    "            t=a[i]\n",
    "            a[i]=a[pivot]\n",
    "            a[pivot]=t\n",
    "            pivot+=1\n",
    "        i+=1\n",
    "    t=a[end]\n",
    "    a[end]=a[pivot]\n",
    "    a[pivot]=t\n",
    "    \"\"\"for x in a:\n",
    "        print(x,end=\" \")\n",
    "    print()\"\"\"\n",
    "    return pivot\n",
    "def quicksort(a,start,end):\n",
    "    if(start<end):\n",
    "        pivot=createpivot(a,start,end);\n",
    "        quicksort(a,start,pivot-1);\n",
    "        quicksort(a,pivot+1,end);\n",
    "quicksort(a,0,len(a)-1)\n",
    "for i in a:\n",
    "    print(i,end=\" \")"
   ]
  },
  {
   "cell_type": "code",
   "execution_count": 56,
   "metadata": {},
   "outputs": [
    {
     "name": "stdout",
     "output_type": "stream",
     "text": [
      "5\n",
      "3 4 1 6 2\n",
      "1\n",
      "2\n",
      "3\n",
      "4\n",
      "6\n"
     ]
    }
   ],
   "source": [
    "n=int(input())\n",
    "i=0\n",
    "a=input().split()\n",
    "while(i<n):\n",
    "    a[i]=int(a[i])\n",
    "    i+=1\n",
    "def createpivot(a,start,end):\n",
    "    i=start\n",
    "    pivotval=a[end]\n",
    "    pivot=start\n",
    "    while(i<=end-1):\n",
    "        if a[i]<=pivotval:\n",
    "            t=a[i]\n",
    "            a[i]=a[pivot]\n",
    "            a[pivot]=t\n",
    "            pivot+=1\n",
    "        i+=1\n",
    "    t=a[end]\n",
    "    a[end]=a[pivot]\n",
    "    a[pivot]=t\n",
    "    \"\"\"for x in a:\n",
    "        print(x,end=\" \")\n",
    "    print()\"\"\"\n",
    "    return pivot\n",
    "def quicksort(a,start,end):\n",
    "    if(start<end):\n",
    "        pivot=createpivot(a,start,end);\n",
    "        quicksort(a,start,pivot-1);\n",
    "        quicksort(a,pivot+1,end);\n",
    "quicksort(a,0,len(a)-1)\n",
    "for i in a:\n",
    "    print(i)"
   ]
  },
  {
   "cell_type": "code",
   "execution_count": null,
   "metadata": {},
   "outputs": [],
   "source": []
  }
 ],
 "metadata": {
  "kernelspec": {
   "display_name": "Python 3",
   "language": "python",
   "name": "python3"
  },
  "language_info": {
   "codemirror_mode": {
    "name": "ipython",
    "version": 3
   },
   "file_extension": ".py",
   "mimetype": "text/x-python",
   "name": "python",
   "nbconvert_exporter": "python",
   "pygments_lexer": "ipython3",
   "version": "3.6.5"
  }
 },
 "nbformat": 4,
 "nbformat_minor": 2
}
