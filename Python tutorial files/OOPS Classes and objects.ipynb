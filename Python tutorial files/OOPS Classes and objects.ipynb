{
 "cells": [
  {
   "cell_type": "markdown",
   "metadata": {},
   "source": [
    "# OOPs in A Python"
   ]
  },
  {
   "cell_type": "markdown",
   "metadata": {},
   "source": [
    "A minimalistic Python class"
   ]
  },
  {
   "cell_type": "code",
   "execution_count": 1,
   "metadata": {},
   "outputs": [
    {
     "name": "stdout",
     "output_type": "stream",
     "text": [
      "<__main__.Person object at 0x7f0ff12d4828>\n",
      "<class '__main__.Person'>\n"
     ]
    }
   ],
   "source": [
    "class Person():\n",
    "    pass\n",
    "p=Person()\n",
    "print(p)\n",
    "print(type(p))"
   ]
  },
  {
   "cell_type": "markdown",
   "metadata": {},
   "source": [
    "## Let's define one Person Class"
   ]
  },
  {
   "cell_type": "code",
   "execution_count": 14,
   "metadata": {},
   "outputs": [
    {
     "name": "stdout",
     "output_type": "stream",
     "text": [
      "Hello World!\n",
      "My name is Aditya and i am from Delhi technological university\n",
      "I am  Indian\n",
      "My name is Arnav and i am from Micromax\n",
      "I am  Indian\n"
     ]
    }
   ],
   "source": [
    "class Person():\n",
    "    #class variables, common for all objects of the same class\n",
    "    nationality=\"Indian\"\n",
    "    def __init__(self,pname,clg):#used to initialize object of the class\n",
    "        #instance variables, these are different for every instance of the same class\n",
    "        self.name=pname\n",
    "        self.college=clg\n",
    "    def sayHi(self,name):\n",
    "        print(\"Hello \"+name)\n",
    "    def introduce(self):\n",
    "        print(\"My name is \"+self.name +\" and i am from \"+self.college)\n",
    "        print(\"I am \",self.nationality)\n",
    "p=Person(\"Aditya\",\"Delhi technological university\")\n",
    "p.sayHi(\"World!\")\n",
    "p.introduce()\n",
    "p2=Person(\"Arnav\",\"Micromax\")\n",
    "p2.introduce()"
   ]
  },
  {
   "cell_type": "markdown",
   "metadata": {},
   "source": [
    "## Instance variables vs Class variables"
   ]
  },
  {
   "cell_type": "code",
   "execution_count": 39,
   "metadata": {},
   "outputs": [
    {
     "name": "stdout",
     "output_type": "stream",
     "text": [
      "German Shepherd\n",
      "['HighJump', 'Roll over']\n",
      "German Shepherd doing secret activity\n",
      "Golden Retriver\n",
      "['LowJump', 'Roll upside']\n",
      "Golden Retriver doing secret activity\n"
     ]
    }
   ],
   "source": [
    "class Dog():\n",
    "    \"\"\"It is a dog class\"\"\"#shown as docstring when we do shift+tab\n",
    "    color=\"Brown\"\n",
    "    #activites=[]\n",
    "    #common for all members for the class\n",
    "    def __init__(self,breed):\n",
    "        \"\"\"This function excepts the breed of the \n",
    "        dog and initialises it\"\"\"\n",
    "        self.breed=breed\n",
    "        self.activities=[]\n",
    "        \n",
    "    def addActivity(self,act):\n",
    "        \"\"\"Used to add dog activity\"\"\"\n",
    "        self.activities.append(act)\n",
    "        \n",
    "    def __secretActivity(self):#private attribute\n",
    "        print(\"{} doing secret activity\".format(self.breed))\n",
    "        \n",
    "    def doActivity(self):\n",
    "        \"\"\"Shows the activities added\"\"\"\n",
    "        print(self.breed)\n",
    "        print(self.activities)\n",
    "        self.__secretActivity()#method to use private functions\n",
    "d=Dog(\"German Shepherd\")\n",
    "d2=Dog(\"Golden Retriver\")\n",
    "d.addActivity(\"HighJump\")\n",
    "d.addActivity(\"Roll over\")\n",
    "#d.secretActivity();\n",
    "d2.addActivity(\"LowJump\")\n",
    "d2.addActivity(\"Roll upside\")\n",
    "d.doActivity()\n",
    "d2.doActivity()"
   ]
  },
  {
   "cell_type": "code",
   "execution_count": 43,
   "metadata": {},
   "outputs": [
    {
     "name": "stdout",
     "output_type": "stream",
     "text": [
      "Golden Retriver\n",
      "['LowJump', 'Roll upside']\n",
      "Golden Retriver doing secret activity\n"
     ]
    }
   ],
   "source": [
    "d2.doActivity()"
   ]
  },
  {
   "cell_type": "markdown",
   "metadata": {},
   "source": [
    "##### By default all the methods and data members are public"
   ]
  },
  {
   "cell_type": "markdown",
   "metadata": {},
   "source": [
    "# Inheritance"
   ]
  },
  {
   "cell_type": "code",
   "execution_count": 4,
   "metadata": {},
   "outputs": [],
   "source": [
    "class SchoolMember():\n",
    "    def __init__(self,name,age):\n",
    "        self.name=name\n",
    "        self.age=age\n",
    "        print(\"Init School Member:{} \".format(name))\n",
    "    \n",
    "    def introduce(self):\n",
    "        print(\"Name :{} {}\".format(self.name,self.age))\n",
    "class Teacher(SchoolMember):\n",
    "    def __init__(self,name,age,salary):\n",
    "        SchoolMember.__init__(self,name,age)\n",
    "        self.salary=salary\n",
    "        print(\"Init Teacher :{}\".format(self.name))\n",
    "    def introduce(self):\n",
    "        SchoolMember.introduce(self)\n",
    "        print(\"Salary :{}\".format(self.salary))\n",
    "class Student(SchoolMember):\n",
    "    '''Represents a school student'''\n",
    "    def __init__(self,name,age,marks):\n",
    "        SchoolMember.__init__(self,name,age)\n",
    "        self.marks=marks\n",
    "        print(\"Init student :{}\".format(self.name))\n",
    "    def introduce(self):\n",
    "        SchoolMember.introduce(self)\n",
    "        print(\"Marks ={}\".format(self.marks))"
   ]
  },
  {
   "cell_type": "code",
   "execution_count": 46,
   "metadata": {},
   "outputs": [
    {
     "name": "stdout",
     "output_type": "stream",
     "text": [
      "Init School Member:Mr. Alpha \n",
      "Init Teacher :Mr. Alpha\n"
     ]
    }
   ],
   "source": [
    "t=Teacher(\"Mr. Alpha\",30,45000)"
   ]
  },
  {
   "cell_type": "code",
   "execution_count": 47,
   "metadata": {},
   "outputs": [
    {
     "name": "stdout",
     "output_type": "stream",
     "text": [
      "Name :Mr. Alpha 30\n",
      "Salary :45000\n"
     ]
    }
   ],
   "source": [
    "t.introduce()"
   ]
  },
  {
   "cell_type": "code",
   "execution_count": 5,
   "metadata": {},
   "outputs": [
    {
     "name": "stdout",
     "output_type": "stream",
     "text": [
      "Init School Member:Adi \n",
      "Init student :Adi\n"
     ]
    }
   ],
   "source": [
    "s=Student(\"Adi\",21,100)"
   ]
  },
  {
   "cell_type": "code",
   "execution_count": 6,
   "metadata": {},
   "outputs": [
    {
     "name": "stdout",
     "output_type": "stream",
     "text": [
      "Name :Adi 21\n",
      "Marks =100\n"
     ]
    }
   ],
   "source": [
    "s.introduce()"
   ]
  },
  {
   "cell_type": "code",
   "execution_count": null,
   "metadata": {},
   "outputs": [],
   "source": []
  }
 ],
 "metadata": {
  "kernelspec": {
   "display_name": "Python 3",
   "language": "python",
   "name": "python3"
  },
  "language_info": {
   "codemirror_mode": {
    "name": "ipython",
    "version": 3
   },
   "file_extension": ".py",
   "mimetype": "text/x-python",
   "name": "python",
   "nbconvert_exporter": "python",
   "pygments_lexer": "ipython3",
   "version": "3.6.5"
  }
 },
 "nbformat": 4,
 "nbformat_minor": 2
}
