{
 "cells": [
  {
   "cell_type": "code",
   "execution_count": 3,
   "metadata": {},
   "outputs": [
    {
     "name": "stdout",
     "output_type": "stream",
     "text": [
      "4\n",
      "Do u want the data(y/n)?y\n",
      "4.0\n",
      "Do u want to enter more(y/n)y\n",
      "4\n",
      "Do u want the data(y/n)?y\n",
      "4.0\n",
      "Do u want to enter more(y/n)n\n"
     ]
    }
   ],
   "source": [
    "s=0\n",
    "cnt=0\n",
    "choice='y'\n",
    "while(choice!='n'):\n",
    "    x=int(input())\n",
    "    ch=input(\"Do u want the data(y/n)?\")\n",
    "    s+=x\n",
    "    cnt+=1\n",
    "    mean=float(s/cnt)\n",
    "    if ch=='y':\n",
    "        print(mean)\n",
    "    choice=input(\"Do u want to enter more(y/n)\")"
   ]
  },
  {
   "cell_type": "code",
   "execution_count": null,
   "metadata": {},
   "outputs": [],
   "source": [
    "#summation and variance problem"
   ]
  },
  {
   "cell_type": "code",
   "execution_count": null,
   "metadata": {},
   "outputs": [],
   "source": [
    "\"\"\"for standard normal deviation\n",
    "mean=0\n",
    "deviation=1\"\"\""
   ]
  }
 ],
 "metadata": {
  "kernelspec": {
   "display_name": "Python 3",
   "language": "python",
   "name": "python3"
  },
  "language_info": {
   "codemirror_mode": {
    "name": "ipython",
    "version": 3
   },
   "file_extension": ".py",
   "mimetype": "text/x-python",
   "name": "python",
   "nbconvert_exporter": "python",
   "pygments_lexer": "ipython3",
   "version": "3.6.5"
  }
 },
 "nbformat": 4,
 "nbformat_minor": 2
}
