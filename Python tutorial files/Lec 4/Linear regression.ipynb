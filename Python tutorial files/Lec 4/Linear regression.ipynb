{
 "cells": [
  {
   "cell_type": "code",
   "execution_count": 1,
   "metadata": {},
   "outputs": [],
   "source": [
    "from sklearn.datasets import make_regression\n",
    "import matplotlib.pyplot as plt\n",
    "import numpy as np"
   ]
  },
  {
   "cell_type": "code",
   "execution_count": 11,
   "metadata": {},
   "outputs": [],
   "source": [
    "x,y=make_regression(100,1,noise=10)#noise is normally distributed"
   ]
  },
  {
   "cell_type": "code",
   "execution_count": 14,
   "metadata": {},
   "outputs": [
    {
     "data": {
      "text/plain": [
       "<matplotlib.collections.PathCollection at 0x7f949a721e10>"
      ]
     },
     "execution_count": 14,
     "metadata": {},
     "output_type": "execute_result"
    },
    {
     "data": {
      "image/png": "[encoded data removed]",
      "text/plain": [
       "<Figure size 576x432 with 1 Axes>"
      ]
     },
     "metadata": {},
     "output_type": "display_data"
    }
   ],
   "source": [
    "plt.figure(figsize=(8,6))\n",
    "plt.scatter(x,y)"
   ]
  },
  {
   "cell_type": "code",
   "execution_count": 17,
   "metadata": {},
   "outputs": [
    {
     "name": "stdout",
     "output_type": "stream",
     "text": [
      "[-0.27811628 -0.3256769   0.44614083 -1.19835599  0.9173439  -0.98791482\n",
      "  0.71906519  0.21331168 -0.79379976 -0.52299221  0.07659737 -0.77279321\n",
      "  0.04593276  0.39315052  1.164389    0.393566   -0.94691859  0.85004286\n",
      "  0.27164462 -0.5277605  -1.1074802   1.87156815 -1.41176909 -0.55405373\n",
      "  0.01939665  1.77784741 -0.86153608 -1.49686371  0.01484419  0.61126609\n",
      "  0.1105266   0.46024991 -0.7944572   0.72143998 -0.14144588 -0.64815316\n",
      " -1.19756212 -1.25451883  2.31402953 -0.67861957 -0.38392907 -0.77648198\n",
      " -3.16083364 -1.44455291  3.01695404 -0.85243419 -1.2691464  -0.50710871\n",
      "  0.24002328 -2.00128555 -1.06023985  1.18452099  0.02771599 -1.40575399\n",
      "  0.46564815  0.3127782  -0.12123958 -0.40724883 -0.87178436 -0.07966759\n",
      "  0.97445057  0.06026501  0.93423117 -0.01402351 -0.52229791 -1.50460941\n",
      "  1.60655456 -1.3894699   0.37784449 -0.83795433  0.8080223  -0.96874319\n",
      " -0.83700165 -0.04562706  1.42956057  1.57573391  0.55848024 -0.81301188\n",
      " -0.18650701  0.4202712  -0.14943519 -0.31526634  0.57374365  1.06265701\n",
      "  0.37285104 -1.41217276  1.74060365  0.12390916 -0.47834446  1.56018126\n",
      " -0.03127374 -0.12161803 -1.38092121 -1.27948895 -0.0598526   1.41352491\n",
      " -0.97701772  0.32638596 -1.05054778  1.25933797]\n",
      "(100,)\n"
     ]
    }
   ],
   "source": [
    "noise=np.random.randn(100)#generates points from standard normal distribution\n",
    "print(noise)\n",
    "print(noise.shape)"
   ]
  },
  {
   "cell_type": "code",
   "execution_count": 76,
   "metadata": {},
   "outputs": [
    {
     "data": {
      "text/plain": [
       "<matplotlib.collections.PathCollection at 0x7f949a23f4a8>"
      ]
     },
     "execution_count": 76,
     "metadata": {},
     "output_type": "execute_result"
    },
    {
     "data": {
      "image/png": "[encoded data removed]",
      "text/plain": [
       "<Figure size 432x288 with 1 Axes>"
      ]
     },
     "metadata": {},
     "output_type": "display_data"
    }
   ],
   "source": [
    "x=np.linspace(0,10,100)\n",
    "y=2*x+1+noise\n",
    "plt.scatter(x,y)"
   ]
  },
  {
   "cell_type": "code",
   "execution_count": 24,
   "metadata": {},
   "outputs": [
    {
     "name": "stdout",
     "output_type": "stream",
     "text": [
      "(100,)\n",
      "(100,)\n",
      "(100, 2)\n",
      "[[ 1.          0.        ]\n",
      " [ 1.          0.1010101 ]\n",
      " [ 1.          0.2020202 ]\n",
      " [ 1.          0.3030303 ]\n",
      " [ 1.          0.4040404 ]\n",
      " [ 1.          0.50505051]\n",
      " [ 1.          0.60606061]\n",
      " [ 1.          0.70707071]\n",
      " [ 1.          0.80808081]\n",
      " [ 1.          0.90909091]\n",
      " [ 1.          1.01010101]\n",
      " [ 1.          1.11111111]\n",
      " [ 1.          1.21212121]\n",
      " [ 1.          1.31313131]\n",
      " [ 1.          1.41414141]\n",
      " [ 1.          1.51515152]\n",
      " [ 1.          1.61616162]\n",
      " [ 1.          1.71717172]\n",
      " [ 1.          1.81818182]\n",
      " [ 1.          1.91919192]\n",
      " [ 1.          2.02020202]\n",
      " [ 1.          2.12121212]\n",
      " [ 1.          2.22222222]\n",
      " [ 1.          2.32323232]\n",
      " [ 1.          2.42424242]\n",
      " [ 1.          2.52525253]\n",
      " [ 1.          2.62626263]\n",
      " [ 1.          2.72727273]\n",
      " [ 1.          2.82828283]\n",
      " [ 1.          2.92929293]\n",
      " [ 1.          3.03030303]\n",
      " [ 1.          3.13131313]\n",
      " [ 1.          3.23232323]\n",
      " [ 1.          3.33333333]\n",
      " [ 1.          3.43434343]\n",
      " [ 1.          3.53535354]\n",
      " [ 1.          3.63636364]\n",
      " [ 1.          3.73737374]\n",
      " [ 1.          3.83838384]\n",
      " [ 1.          3.93939394]\n",
      " [ 1.          4.04040404]\n",
      " [ 1.          4.14141414]\n",
      " [ 1.          4.24242424]\n",
      " [ 1.          4.34343434]\n",
      " [ 1.          4.44444444]\n",
      " [ 1.          4.54545455]\n",
      " [ 1.          4.64646465]\n",
      " [ 1.          4.74747475]\n",
      " [ 1.          4.84848485]\n",
      " [ 1.          4.94949495]\n",
      " [ 1.          5.05050505]\n",
      " [ 1.          5.15151515]\n",
      " [ 1.          5.25252525]\n",
      " [ 1.          5.35353535]\n",
      " [ 1.          5.45454545]\n",
      " [ 1.          5.55555556]\n",
      " [ 1.          5.65656566]\n",
      " [ 1.          5.75757576]\n",
      " [ 1.          5.85858586]\n",
      " [ 1.          5.95959596]\n",
      " [ 1.          6.06060606]\n",
      " [ 1.          6.16161616]\n",
      " [ 1.          6.26262626]\n",
      " [ 1.          6.36363636]\n",
      " [ 1.          6.46464646]\n",
      " [ 1.          6.56565657]\n",
      " [ 1.          6.66666667]\n",
      " [ 1.          6.76767677]\n",
      " [ 1.          6.86868687]\n",
      " [ 1.          6.96969697]\n",
      " [ 1.          7.07070707]\n",
      " [ 1.          7.17171717]\n",
      " [ 1.          7.27272727]\n",
      " [ 1.          7.37373737]\n",
      " [ 1.          7.47474747]\n",
      " [ 1.          7.57575758]\n",
      " [ 1.          7.67676768]\n",
      " [ 1.          7.77777778]\n",
      " [ 1.          7.87878788]\n",
      " [ 1.          7.97979798]\n",
      " [ 1.          8.08080808]\n",
      " [ 1.          8.18181818]\n",
      " [ 1.          8.28282828]\n",
      " [ 1.          8.38383838]\n",
      " [ 1.          8.48484848]\n",
      " [ 1.          8.58585859]\n",
      " [ 1.          8.68686869]\n",
      " [ 1.          8.78787879]\n",
      " [ 1.          8.88888889]\n",
      " [ 1.          8.98989899]\n",
      " [ 1.          9.09090909]\n",
      " [ 1.          9.19191919]\n",
      " [ 1.          9.29292929]\n",
      " [ 1.          9.39393939]\n",
      " [ 1.          9.49494949]\n",
      " [ 1.          9.5959596 ]\n",
      " [ 1.          9.6969697 ]\n",
      " [ 1.          9.7979798 ]\n",
      " [ 1.          9.8989899 ]\n",
      " [ 1.         10.        ]]\n"
     ]
    }
   ],
   "source": [
    "ones=np.ones(x.shape[0])\n",
    "print(ones.shape)\n",
    "print(x.shape)\n",
    "x=np.array(x)\n",
    "X=np.stack((ones,x),axis=1)\n",
    "print(X.shape)\n",
    "print(X)"
   ]
  },
  {
   "cell_type": "code",
   "execution_count": 86,
   "metadata": {},
   "outputs": [],
   "source": [
    "def hypothesis(x,theta):\n",
    "    return theta[1]*x+theta[0]\n",
    "    #return np.dot(theta,x)\n",
    "    \n",
    "def gradient(x,y,theta):\n",
    "    grad=np.array([0,0])\n",
    "    m=x.shape[0]\n",
    "    for i in range(m):\n",
    "        hx=hypothesis(x[i],theta)\n",
    "        grad[1]+=(hx-y[i])*x[i]\n",
    "        grad[0]+=(hx-y[i])\n",
    "   # print(type(grad))\n",
    "   # print(grad)\n",
    "    return grad\n",
    "\n",
    "def error(x,y,theta):\n",
    "    e=0\n",
    "    for i in range(x.shape[0]):\n",
    "        e+=((y[i]-hypothesis(x[i],theta))**2)*0.5\n",
    "    return e\n",
    "def gradientDescent(x,y,lr=0.001):\n",
    "    theta=np.array([0.1,0.2])\n",
    "    print(theta.shape)\n",
    "    error_list=[]\n",
    "    for i in range(100):\n",
    "        grad=gradient(x,y,theta)\n",
    "        theta[0]=theta[0]-lr*grad[0]\n",
    "        theta[1]=theta[1]-lr*grad[1]\n",
    "        error_list.append(error(x,y,theta))\n",
    "    print(theta.shape)\n",
    "    return theta,error_list"
   ]
  },
  {
   "cell_type": "code",
   "execution_count": 81,
   "metadata": {},
   "outputs": [
    {
     "name": "stdout",
     "output_type": "stream",
     "text": [
      "(2,)\n",
      "(2,)\n",
      "[10.42  6.23]\n"
     ]
    }
   ],
   "source": [
    "x=(x-x.mean())/x.std()\n",
    "print(gradientDescent(x,y))"
   ]
  },
  {
   "cell_type": "code",
   "execution_count": 87,
   "metadata": {},
   "outputs": [
    {
     "name": "stdout",
     "output_type": "stream",
     "text": [
      "(2,)\n",
      "(2,)\n"
     ]
    },
    {
     "data": {
      "text/plain": [
       "<matplotlib.collections.PathCollection at 0x7f949a089630>"
      ]
     },
     "execution_count": 87,
     "metadata": {},
     "output_type": "execute_result"
    },
    {
     "data": {
      "image/png": "[encoded data removed]",
      "text/plain": [
       "<Figure size 432x288 with 1 Axes>"
      ]
     },
     "metadata": {},
     "output_type": "display_data"
    }
   ],
   "source": [
    "plt.scatter(x,y)\n",
    "theta,error_list=gradientDescent(x,y)\n",
    "plt.scatter(x,hypothesis(x,theta))"
   ]
  },
  {
   "cell_type": "code",
   "execution_count": 89,
   "metadata": {},
   "outputs": [
    {
     "data": {
      "text/plain": [
       "<matplotlib.collections.PathCollection at 0x7f9499fe4630>"
      ]
     },
     "execution_count": 89,
     "metadata": {},
     "output_type": "execute_result"
    },
    {
     "data": {
      "image/png": "[encoded data removed]",
      "text/plain": [
       "<Figure size 432x288 with 1 Axes>"
      ]
     },
     "metadata": {},
     "output_type": "display_data"
    }
   ],
   "source": [
    "plt.scatter(range(100),error_list)"
   ]
  },
  {
   "cell_type": "code",
   "execution_count": null,
   "metadata": {},
   "outputs": [],
   "source": []
  }
 ],
 "metadata": {
  "kernelspec": {
   "display_name": "Python 3",
   "language": "python",
   "name": "python3"
  },
  "language_info": {
   "codemirror_mode": {
    "name": "ipython",
    "version": 3
   },
   "file_extension": ".py",
   "mimetype": "text/x-python",
   "name": "python",
   "nbconvert_exporter": "python",
   "pygments_lexer": "ipython3",
   "version": "3.6.6"
  }
 },
 "nbformat": 4,
 "nbformat_minor": 2
}
