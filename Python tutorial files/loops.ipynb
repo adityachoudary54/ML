{
 "cells": [
  {
   "cell_type": "code",
   "execution_count": 5,
   "metadata": {},
   "outputs": [
    {
     "name": "stdout",
     "output_type": "stream",
     "text": [
      "Step is 1\n",
      "Step is 2\n",
      "Step is 3\n",
      "Step is 4\n",
      "Step is 5\n",
      "Step is 6\n",
      "Step is 7\n",
      "Step is 8\n",
      "Step is 9\n",
      "Step is 10\n",
      "Loop finished\n"
     ]
    }
   ],
   "source": [
    "i=1\n",
    "n=10\n",
    "while(i<=n):\n",
    "    print(\"Step is {}\".format(i))\n",
    "    i+=1\n",
    "print(\"Loop finished\")"
   ]
  },
  {
   "cell_type": "code",
   "execution_count": 8,
   "metadata": {},
   "outputs": [
    {
     "name": "stdout",
     "output_type": "stream",
     "text": [
      "Step is 1\n",
      "Step is 2\n",
      "Step is 3\n",
      "Step is 4\n",
      "Step is 5\n",
      "Step is 6\n",
      "Step is 7\n",
      "Step is 8\n",
      "Step is 9\n"
     ]
    }
   ],
   "source": [
    "i=1\n",
    "for i in range(1,10):\n",
    "    print(\"Step is {}\".format(i))"
   ]
  },
  {
   "cell_type": "code",
   "execution_count": 9,
   "metadata": {},
   "outputs": [
    {
     "name": "stdout",
     "output_type": "stream",
     "text": [
      "Step is 1\n",
      "Step is 3\n",
      "Step is 5\n",
      "Step is 7\n",
      "Step is 9\n"
     ]
    }
   ],
   "source": [
    "i=1\n",
    "for i in range(1,10,2):\n",
    "    print(\"Step is {}\".format(i))"
   ]
  },
  {
   "cell_type": "code",
   "execution_count": 10,
   "metadata": {},
   "outputs": [
    {
     "name": "stdout",
     "output_type": "stream",
     "text": [
      "3628800\n"
     ]
    }
   ],
   "source": [
    "i=1\n",
    "ans=i\n",
    "for i in range(1,11):\n",
    "    ans*=i\n",
    "print(ans)"
   ]
  },
  {
   "cell_type": "code",
   "execution_count": 11,
   "metadata": {},
   "outputs": [
    {
     "name": "stdout",
     "output_type": "stream",
     "text": [
      "Step is 10\n",
      "Step is 8\n",
      "Step is 6\n",
      "Step is 4\n",
      "Step is 2\n"
     ]
    }
   ],
   "source": [
    "i=10\n",
    "for i in range(10,1,-2):\n",
    "    print(\"Step is {}\".format(i))"
   ]
  },
  {
   "cell_type": "code",
   "execution_count": 25,
   "metadata": {},
   "outputs": [
    {
     "name": "stdout",
     "output_type": "stream",
     "text": [
      "11 11 11 11 11 11 11 11 11 11 11 \n",
      "11 10 10 10 10 10 10 10 10 10 11 \n",
      "11 10  9  9  9  9  9  9  9 10 11 \n",
      "11 10  9  8  8  8  8  8  9 10 11 \n",
      "11 10  9  8  7  7  7  8  9 10 11 \n",
      "11 10  9  8  7  6  7  8  9 10 11 \n",
      "11 10  9  8  7  7  7  8  9 10 11 \n",
      "11 10  9  8  8  8  8  8  9 10 11 \n",
      "11 10  9  9  9  9  9  9  9 10 11 \n",
      "11 10 10 10 10 10 10 10 10 10 11 \n",
      "11 11 11 11 11 11 11 11 11 11 11 \n"
     ]
    }
   ],
   "source": [
    "n=11\n",
    "for x in range(n):\n",
    "    for y in range(n):\n",
    "        print(\"{0:2d}\".format(max(x+1,y+1,n-x,n-y)),end=\" \")\n",
    "    print()"
   ]
  },
  {
   "cell_type": "code",
   "execution_count": null,
   "metadata": {},
   "outputs": [],
   "source": []
  }
 ],
 "metadata": {
  "kernelspec": {
   "display_name": "Python 3",
   "language": "python",
   "name": "python3"
  },
  "language_info": {
   "codemirror_mode": {
    "name": "ipython",
    "version": 3
   },
   "file_extension": ".py",
   "mimetype": "text/x-python",
   "name": "python",
   "nbconvert_exporter": "python",
   "pygments_lexer": "ipython3",
   "version": "3.6.5"
  }
 },
 "nbformat": 4,
 "nbformat_minor": 2
}
