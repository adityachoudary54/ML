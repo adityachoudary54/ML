{
 "cells": [
  {
   "cell_type": "code",
   "execution_count": 1,
   "metadata": {},
   "outputs": [],
   "source": [
    "import json"
   ]
  },
  {
   "cell_type": "code",
   "execution_count": 3,
   "metadata": {},
   "outputs": [
    {
     "name": "stdout",
     "output_type": "stream",
     "text": [
      "<class 'dict'>\n",
      "{'name': 'A1', 'age': 30}\n"
     ]
    }
   ],
   "source": [
    "book={\n",
    "    \"name\":\"learning Python\",\n",
    "    \"page\":320,\n",
    "    \"authors\":[\n",
    "        {\n",
    "            \"name\":\"A1\",\n",
    "            \"age\":30\n",
    "        },\n",
    "        {\n",
    "            \"name\":\"A2\",\n",
    "            \"age\":40\n",
    "        }\n",
    "    ]\n",
    "}\n",
    "print(type(book))\n",
    "print(book[\"authors\"][0])"
   ]
  },
  {
   "cell_type": "code",
   "execution_count": 4,
   "metadata": {},
   "outputs": [],
   "source": [
    "with open(\"MyJsonFile.json\",\"w\") as f:\n",
    "    json.dump(book,f)"
   ]
  },
  {
   "cell_type": "code",
   "execution_count": 6,
   "metadata": {},
   "outputs": [
    {
     "data": {
      "text/plain": [
       "'{\"name\": \"learning Python\", \"page\": 320, \"authors\": [{\"name\": \"A1\", \"age\": 30}, {\"name\": \"A2\", \"age\": 40}]}'"
      ]
     },
     "execution_count": 6,
     "metadata": {},
     "output_type": "execute_result"
    }
   ],
   "source": [
    "json.dumps(book)# Returns a string"
   ]
  },
  {
   "cell_type": "code",
   "execution_count": null,
   "metadata": {},
   "outputs": [],
   "source": []
  }
 ],
 "metadata": {
  "kernelspec": {
   "display_name": "Python 3",
   "language": "python",
   "name": "python3"
  },
  "language_info": {
   "codemirror_mode": {
    "name": "ipython",
    "version": 3
   },
   "file_extension": ".py",
   "mimetype": "text/x-python",
   "name": "python",
   "nbconvert_exporter": "python",
   "pygments_lexer": "ipython3",
   "version": "3.6.5"
  }
 },
 "nbformat": 4,
 "nbformat_minor": 2
}
