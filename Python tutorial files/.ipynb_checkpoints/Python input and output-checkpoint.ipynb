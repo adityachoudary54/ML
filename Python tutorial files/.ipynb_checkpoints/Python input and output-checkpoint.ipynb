{
 "cells": [
  {
   "cell_type": "code",
   "execution_count": 4,
   "metadata": {},
   "outputs": [
    {
     "name": "stdout",
     "output_type": "stream",
     "text": [
      "Enter a number->45\n",
      "The square of the number is 2025, the cube of the number is 91125 and the number is 45\n"
     ]
    }
   ],
   "source": [
    "a=int(input(\"Enter a number->\"))\n",
    "print(\"The square of the number is {}, the cube of the number is {} and the number is {}\".format(a*a,a**3,a))"
   ]
  },
  {
   "cell_type": "code",
   "execution_count": null,
   "metadata": {},
   "outputs": [],
   "source": [
    "a=int(input(\"Enter a number->\"))\n",
    "print(\"The square of the number is \"+str(a*a))"
   ]
  }
 ],
 "metadata": {
  "kernelspec": {
   "display_name": "Python 3",
   "language": "python",
   "name": "python3"
  },
  "language_info": {
   "codemirror_mode": {
    "name": "ipython",
    "version": 3
   },
   "file_extension": ".py",
   "mimetype": "text/x-python",
   "name": "python",
   "nbconvert_exporter": "python",
   "pygments_lexer": "ipython3",
   "version": "3.6.5"
  }
 },
 "nbformat": 4,
 "nbformat_minor": 2
}
