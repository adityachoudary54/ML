{
 "cells": [
  {
   "cell_type": "code",
   "execution_count": null,
   "metadata": {},
   "outputs": [],
   "source": [
    "import numpy"
   ]
  },
  {
   "cell_type": "code",
   "execution_count": null,
   "metadata": {},
   "outputs": [],
   "source": [
    "import matplotlib"
   ]
  },
  {
   "cell_type": "code",
   "execution_count": null,
   "metadata": {},
   "outputs": [],
   "source": [
    "import sklearn"
   ]
  },
  {
   "cell_type": "code",
   "execution_count": null,
   "metadata": {},
   "outputs": [],
   "source": [
    "import cv2"
   ]
  },
  {
   "cell_type": "code",
   "execution_count": null,
   "metadata": {},
   "outputs": [],
   "source": [
    "a=2\n",
    "b=3\n",
    "#a+b\n",
    "print(a+b)"
   ]
  },
  {
   "cell_type": "code",
   "execution_count": null,
   "metadata": {},
   "outputs": [],
   "source": [
    "print(\"Hello world\")"
   ]
  },
  {
   "cell_type": "code",
   "execution_count": null,
   "metadata": {},
   "outputs": [],
   "source": [
    "def squareRoot(number, precision):\n",
    " \n",
    "    start = 0\n",
    "    end = number\n",
    "    while (start <= end) :\n",
    "        mid = int((start + end) / 2)\n",
    "        if (mid * mid == number) :\n",
    "            ans = mid\n",
    "            break\n",
    "        if (mid * mid < number) :\n",
    "            start = mid + 1\n",
    "            ans = mid\n",
    "        else :\n",
    "            end = mid - 1\n",
    "    increment = 0.1\n",
    "    for i in range(0, precision): \n",
    "        while (ans * ans <= number):\n",
    "            ans += increment\n",
    "        ans = ans - increment\n",
    "        increment = increment / 10\n",
    "     \n",
    "    return ans\n",
    " \n",
    "n,p = input().split()\n",
    "n = int(n)\n",
    "p = int(p)\n",
    "print(squareRoot(n,p))"
   ]
  },
  {
   "cell_type": "code",
   "execution_count": 5,
   "metadata": {},
   "outputs": [
    {
     "name": "stdout",
     "output_type": "stream",
     "text": [
      "27 2\n",
      "5.19\n"
     ]
    }
   ],
   "source": [
    "stri=input();\n",
    "stri=stri.split(\" \")\n",
    "n=int(stri[0])\n",
    "p=int(stri[1])\n",
    "type(n)\n",
    "n=float(n**0.5)\n",
    "#print(n)\n",
    "number=str(n)\n",
    "if p==0:\n",
    "    print({}.format(number.split(\".\")[0])\n",
    "else:\n",
    "    print(\"{}.{}\".format(number.split(\".\")[0],number.split(\".\")[1][0:p]))"
   ]
  },
  {
   "cell_type": "code",
   "execution_count": null,
   "metadata": {},
   "outputs": [],
   "source": []
  }
 ],
 "metadata": {
  "kernelspec": {
   "display_name": "Python 3",
   "language": "python",
   "name": "python3"
  },
  "language_info": {
   "codemirror_mode": {
    "name": "ipython",
    "version": 3
   },
   "file_extension": ".py",
   "mimetype": "text/x-python",
   "name": "python",
   "nbconvert_exporter": "python",
   "pygments_lexer": "ipython3",
   "version": "3.6.5"
  }
 },
 "nbformat": 4,
 "nbformat_minor": 2
}
