{
 "cells": [
  {
   "cell_type": "code",
   "execution_count": 2,
   "metadata": {},
   "outputs": [],
   "source": [
    "import matplotlib.pyplot as plt\n",
    "import pandas as pd\n",
    "import numpy as np"
   ]
  },
  {
   "cell_type": "code",
   "execution_count": 8,
   "metadata": {},
   "outputs": [
    {
     "name": "stdout",
     "output_type": "stream",
     "text": [
      "(42000, 784)\n",
      "(42000,)\n",
      "(42000, 785)\n"
     ]
    }
   ],
   "source": [
    "# Data preparation\n",
    "df=pd.read_csv(\"train.csv\")\n",
    "data=df.values\n",
    "X=data[:,1:]\n",
    "Y=data[:,0]\n",
    "print(X.shape)\n",
    "print(Y.shape)\n",
    "print(data.shape)"
   ]
  },
  {
   "cell_type": "code",
   "execution_count": 36,
   "metadata": {},
   "outputs": [
    {
     "name": "stdout",
     "output_type": "stream",
     "text": [
      "(33600, 784)\n",
      "(33600,)\n",
      "(8400, 784)\n",
      "(8400,)\n"
     ]
    }
   ],
   "source": [
    "split=int(0.8*X.shape[0])\n",
    "x_train=X[:split,:]\n",
    "y_train=Y[:split]\n",
    "x_test=X[split:,:]\n",
    "y_test=Y[split:]\n",
    "print(x_train.shape)\n",
    "print(y_train.shape)\n",
    "print(x_test.shape)\n",
    "print(y_test.shape)"
   ]
  },
  {
   "cell_type": "code",
   "execution_count": null,
   "metadata": {},
   "outputs": [],
   "source": []
  },
  {
   "cell_type": "code",
   "execution_count": 11,
   "metadata": {},
   "outputs": [],
   "source": [
    "# KNN\n",
    "def dist(x1,x2):\n",
    "    return np.sqrt(abs(sum((x1-x2)**2)))\n",
    "def knn(X,Y,query_x,k=5):\n",
    "    vals=[]\n",
    "    m=X.shape[0]\n",
    "    for i in range(m):\n",
    "        d=dist(query_x,X[i])\n",
    "        vals.append((d,Y[i]))\n",
    "    vals=sorted(vals)\n",
    "    vals=vals[:k]\n",
    "    vals=np.array(vals)\n",
    "    new_vals=np.unique(vals[:,1],return_counts=True)\n",
    "    index=new_vals[1].argmax()\n",
    "    pred=new_vals[0][index]\n",
    "    return pred"
   ]
  },
  {
   "cell_type": "code",
   "execution_count": 17,
   "metadata": {},
   "outputs": [
    {
     "name": "stdout",
     "output_type": "stream",
     "text": [
      "5.0\n"
     ]
    },
    {
     "data": {
      "image/png": "[encoded data removed]",
      "text/plain": [
       "<Figure size 432x288 with 1 Axes>"
      ]
     },
     "metadata": {},
     "output_type": "display_data"
    }
   ],
   "source": [
    "plt.imshow(X[8].reshape(28,28),cmap='gray')\n",
    "print(knn(X,Y,X[8]))"
   ]
  },
  {
   "cell_type": "code",
   "execution_count": 38,
   "metadata": {},
   "outputs": [
    {
     "name": "stdout",
     "output_type": "stream",
     "text": [
      "Accuracy is :96.0\n"
     ]
    }
   ],
   "source": [
    "cnt=0.0\n",
    "for i in range(100):\n",
    "    pred=knn(x_train,y_train,x_test[i])\n",
    "    if(pred==y_test[i]):\n",
    "        cnt+=1\n",
    "print(\"Accuracy is :{}\".format((cnt/100)*100))"
   ]
  },
  {
   "cell_type": "code",
   "execution_count": 28,
   "metadata": {},
   "outputs": [
    {
     "data": {
      "text/plain": [
       "<matplotlib.image.AxesImage at 0x7fc40f5b3898>"
      ]
     },
     "execution_count": 28,
     "metadata": {},
     "output_type": "execute_result"
    },
    {
     "data": {
      "image/png": "[encoded data removed]",
      "text/plain": [
       "<Figure size 432x288 with 1 Axes>"
      ]
     },
     "metadata": {},
     "output_type": "display_data"
    }
   ],
   "source": [
    "plt.imshow(X[5].reshape(28,28),cmap='gray')"
   ]
  },
  {
   "cell_type": "code",
   "execution_count": null,
   "metadata": {},
   "outputs": [],
   "source": []
  }
 ],
 "metadata": {
  "kernelspec": {
   "display_name": "Python 3",
   "language": "python",
   "name": "python3"
  },
  "language_info": {
   "codemirror_mode": {
    "name": "ipython",
    "version": 3
   },
   "file_extension": ".py",
   "mimetype": "text/x-python",
   "name": "python",
   "nbconvert_exporter": "python",
   "pygments_lexer": "ipython3",
   "version": "3.6.5"
  }
 },
 "nbformat": 4,
 "nbformat_minor": 2
}
