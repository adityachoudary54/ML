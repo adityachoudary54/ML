{
 "cells": [
  {
   "cell_type": "code",
   "execution_count": 2,
   "metadata": {},
   "outputs": [
    {
     "name": "stdout",
     "output_type": "stream",
     "text": [
      "Something wnet wrong\n"
     ]
    }
   ],
   "source": [
    "try:\n",
    "    f=open(\"somemissingfile.txt\",\"r\")\n",
    "except:\n",
    "    print(\"Something went wrong\")"
   ]
  },
  {
   "cell_type": "code",
   "execution_count": 3,
   "metadata": {},
   "outputs": [
    {
     "name": "stdout",
     "output_type": "stream",
     "text": [
      "Something went wrong\n",
      "<class 'Exception'>\n"
     ]
    }
   ],
   "source": [
    "try:\n",
    "    f=open(\"somemissingfile.txt\",\"r\")\n",
    "except Exception:\n",
    "    print(\"Something went wrong\")\n",
    "    print(Exception)"
   ]
  },
  {
   "cell_type": "code",
   "execution_count": 4,
   "metadata": {},
   "outputs": [
    {
     "name": "stdout",
     "output_type": "stream",
     "text": [
      "File doesn't exist. Pls reupload\n"
     ]
    }
   ],
   "source": [
    "try:\n",
    "    f=open(\"somemissingfile.txt\",\"r\")\n",
    "except FileNotFoundError:\n",
    "    print(\"File doesn't exist. Pls reupload\")\n",
    "except:\n",
    "    print(\"Something went wrong\")"
   ]
  },
  {
   "cell_type": "code",
   "execution_count": 8,
   "metadata": {},
   "outputs": [
    {
     "name": "stdout",
     "output_type": "stream",
     "text": [
      "b is not defined\n",
      "<class 'NameError'>\n"
     ]
    }
   ],
   "source": [
    "try:\n",
    "    a=b\n",
    "    f=open(\"somemissingfile.txt\",\"r\")\n",
    "except FileNotFoundError:\n",
    "    print(\"File doesn't exist. Pls reupload\")\n",
    "except NameError:\n",
    "    print(\"b is not defined\")\n",
    "    print(NameError)\n",
    "except:\n",
    "    print(\"Something went wrong\")"
   ]
  },
  {
   "cell_type": "code",
   "execution_count": 13,
   "metadata": {},
   "outputs": [
    {
     "name": "stdout",
     "output_type": "stream",
     "text": [
      "Enter your name:ad\n",
      "Pls enter a valid name\n",
      "It is always there\n"
     ]
    }
   ],
   "source": [
    "try:\n",
    "    a=input(\"Enter your name:\")\n",
    "    if(len(a)<3):\n",
    "        raise Exception\n",
    "except FileNotFoundError:\n",
    "    print(\"File doesn't exist. Pls reupload\")\n",
    "except NameError:#specific classes for exception\n",
    "    print(\"b is not defined\")\n",
    "    print(NameError)\n",
    "except Exception:#generalised exception class\n",
    "    print(\"Pls enter a valid name\")\n",
    "else:\n",
    "    print(\"Form submitted successfully\")\n",
    "finally:\n",
    "    print(\"It is always there\")"
   ]
  },
  {
   "cell_type": "code",
   "execution_count": null,
   "metadata": {},
   "outputs": [],
   "source": []
  }
 ],
 "metadata": {
  "kernelspec": {
   "display_name": "Python 3",
   "language": "python",
   "name": "python3"
  },
  "language_info": {
   "codemirror_mode": {
    "name": "ipython",
    "version": 3
   },
   "file_extension": ".py",
   "mimetype": "text/x-python",
   "name": "python",
   "nbconvert_exporter": "python",
   "pygments_lexer": "ipython3",
   "version": "3.6.5"
  }
 },
 "nbformat": 4,
 "nbformat_minor": 2
}
