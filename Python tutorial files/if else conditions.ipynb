{
 "cells": [
  {
   "cell_type": "code",
   "execution_count": 7,
   "metadata": {},
   "outputs": [
    {
     "name": "stdout",
     "output_type": "stream",
     "text": [
      "Enter the weather:Rainy\n",
      "Don't go outside\n",
      "It's raining heavily\n"
     ]
    }
   ],
   "source": [
    "weather=input(\"Enter the weather:\")\n",
    "if weather==\"Rainy\":\n",
    "    print(\"Don't go outside\")\n",
    "    print(\"It's raining heavily\")\n",
    "elif weather==\"Cool\":\n",
    "    print(\"Let's play badminton\")\n",
    "elif weather==\"Hot\":\n",
    "    print(\"Let's play pubg\")\n",
    "else:\n",
    "    print(\"Don't play its bad to play\")\n",
    "    "
   ]
  },
  {
   "cell_type": "code",
   "execution_count": null,
   "metadata": {},
   "outputs": [],
   "source": []
  }
 ],
 "metadata": {
  "kernelspec": {
   "display_name": "Python 3",
   "language": "python",
   "name": "python3"
  },
  "language_info": {
   "codemirror_mode": {
    "name": "ipython",
    "version": 3
   },
   "file_extension": ".py",
   "mimetype": "text/x-python",
   "name": "python",
   "nbconvert_exporter": "python",
   "pygments_lexer": "ipython3",
   "version": "3.6.5"
  }
 },
 "nbformat": 4,
 "nbformat_minor": 2
}
