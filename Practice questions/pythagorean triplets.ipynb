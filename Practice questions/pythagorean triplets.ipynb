{
 "cells": [
  {
   "cell_type": "code",
   "execution_count": 18,
   "metadata": {},
   "outputs": [],
   "source": []
  },
  {
   "cell_type": "code",
   "execution_count": 35,
   "metadata": {},
   "outputs": [
    {
     "name": "stdout",
     "output_type": "stream",
     "text": [
      "3\n",
      "200\n",
      "100\n",
      "1000\n",
      "[200, 100, 1000]\n"
     ]
    }
   ],
   "source": [
    "A=[]\n",
    "n=int(input())\n",
    "i=0\n",
    "while(i<n):\n",
    "    x=int(input())\n",
    "    A.append(x)\n",
    "    i+=1\n",
    "print(A)"
   ]
  },
  {
   "cell_type": "code",
   "execution_count": 44,
   "metadata": {},
   "outputs": [
    {
     "name": "stdout",
     "output_type": "stream",
     "text": [
      "(2, 14)\n",
      "(10, 10)\n",
      "(6, 8)\n",
      "(0, 10)\n",
      "(10, 30)\n",
      "(18, 26)\n"
     ]
    }
   ],
   "source": [
    "for element in A:\n",
    "    s=set([])\n",
    "    for i in range(0,int(element**0.5)+1):\n",
    "        for j in range(0,int((element-i**2)**0.5)+1):\n",
    "            #print(i,j)\n",
    "            if (i**2 + j**2)==element:\n",
    "                s.add((min(i,j),max(i,j)))\n",
    "    for tupl in s:\n",
    "        print(tupl)\n",
    "\n",
    "                "
   ]
  },
  {
   "cell_type": "code",
   "execution_count": null,
   "metadata": {},
   "outputs": [],
   "source": []
  }
 ],
 "metadata": {
  "kernelspec": {
   "display_name": "Python 3",
   "language": "python",
   "name": "python3"
  },
  "language_info": {
   "codemirror_mode": {
    "name": "ipython",
    "version": 3
   },
   "file_extension": ".py",
   "mimetype": "text/x-python",
   "name": "python",
   "nbconvert_exporter": "python",
   "pygments_lexer": "ipython3",
   "version": "3.6.5"
  }
 },
 "nbformat": 4,
 "nbformat_minor": 2
}
