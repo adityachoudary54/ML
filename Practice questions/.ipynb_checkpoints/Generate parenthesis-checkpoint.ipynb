{
 "cells": [
  {
   "cell_type": "code",
   "execution_count": 3,
   "metadata": {},
   "outputs": [
    {
     "name": "stdout",
     "output_type": "stream",
     "text": [
      "['(', ')', '(', ')', '(', ')']\n",
      "['(', ')', '(', '(', ')', ')']\n",
      "['(', '(', ')', ')', '(', ')']\n",
      "['(', '(', ')', '(', ')', ')']\n",
      "['(', '(', '(', ')', ')', ')']\n"
     ]
    }
   ],
   "source": [
    "def genParenthesis(openB,closeB,n,s=[]):\n",
    "    if closeB==n:\n",
    "        print(s)\n",
    "        return\n",
    "    if(openB<n):\n",
    "        s.append('(')\n",
    "        genParenthesis(openB+1,closeB,n,s)\n",
    "        s.pop()\n",
    "    if(openB>closeB):\n",
    "        #here u can definitely put a closing bracket\n",
    "        s.append(')')\n",
    "        genParenthesis(openB,closeB+1,n,s)\n",
    "        s.pop()#backtracking step(It's important)\n",
    "    return\n",
    "genParenthesis(0,0,3)"
   ]
  },
  {
   "cell_type": "code",
   "execution_count": null,
   "metadata": {},
   "outputs": [],
   "source": []
  }
 ],
 "metadata": {
  "kernelspec": {
   "display_name": "Python 3",
   "language": "python",
   "name": "python3"
  },
  "language_info": {
   "codemirror_mode": {
    "name": "ipython",
    "version": 3
   },
   "file_extension": ".py",
   "mimetype": "text/x-python",
   "name": "python",
   "nbconvert_exporter": "python",
   "pygments_lexer": "ipython3",
   "version": "3.6.5"
  }
 },
 "nbformat": 4,
 "nbformat_minor": 2
}
