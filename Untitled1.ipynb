{
 "cells": [
  {
   "cell_type": "code",
   "execution_count": 1,
   "metadata": {},
   "outputs": [
    {
     "name": "stderr",
     "output_type": "stream",
     "text": [
      "Using TensorFlow backend.\n"
     ]
    }
   ],
   "source": [
    "import keras\n",
    "import tensorflow\n",
    "import pandas as pd\n",
    "import numpy as np\n",
    "from keras.layers import Dense,Activation# a hidden layer is known as dense in keras\n",
    "from keras.models import Sequential\n",
    "from keras.utils import np_utils# converts classes in one-hot encoding\n",
    "import matplotlib.pyplot as plt\n"
   ]
  },
  {
   "cell_type": "code",
   "execution_count": 2,
   "metadata": {},
   "outputs": [
    {
     "data": {
      "text/plain": [
       "'2.2.2'"
      ]
     },
     "execution_count": 2,
     "metadata": {},
     "output_type": "execute_result"
    }
   ],
   "source": [
    "keras.__version__"
   ]
  },
  {
   "cell_type": "code",
   "execution_count": 3,
   "metadata": {},
   "outputs": [
    {
     "name": "stdout",
     "output_type": "stream",
     "text": [
      "(10000, 784) (10000,)\n"
     ]
    }
   ],
   "source": [
    "x=pd.read_csv('./class_11/fashion-mnist_test.csv')\n",
    "X_=np.array(x)\n",
    "X=X_[:,1:]\n",
    "X=X/255.0\n",
    "y=X_[:,0]\n",
    "print(X.shape,y.shape)"
   ]
  },
  {
   "cell_type": "code",
   "execution_count": 4,
   "metadata": {},
   "outputs": [
    {
     "name": "stdout",
     "output_type": "stream",
     "text": [
      "(10000, 10)\n"
     ]
    }
   ],
   "source": [
    "y=np_utils.to_categorical(y)\n",
    "print(y.shape)"
   ]
  },
  {
   "cell_type": "code",
   "execution_count": 5,
   "metadata": {},
   "outputs": [
    {
     "name": "stdout",
     "output_type": "stream",
     "text": [
      "(8000, 784) (8000, 10) (2000, 784) (2000, 10)\n"
     ]
    }
   ],
   "source": [
    "X_train=X[:8000,:]\n",
    "Y_train=y[:8000,:]\n",
    "X_val=X[8000:,:]\n",
    "Y_val=y[8000:,:]\n",
    "print(X_train.shape,Y_train.shape,X_val.shape,Y_val.shape)"
   ]
  },
  {
   "cell_type": "code",
   "execution_count": 6,
   "metadata": {},
   "outputs": [
    {
     "name": "stdout",
     "output_type": "stream",
     "text": [
      "_________________________________________________________________\n",
      "Layer (type)                 Output Shape              Param #   \n",
      "=================================================================\n",
      "dense_1 (Dense)              (None, 256)               200960    \n",
      "_________________________________________________________________\n",
      "activation_1 (Activation)    (None, 256)               0         \n",
      "_________________________________________________________________\n",
      "dense_2 (Dense)              (None, 64)                16448     \n",
      "_________________________________________________________________\n",
      "activation_2 (Activation)    (None, 64)                0         \n",
      "_________________________________________________________________\n",
      "dense_3 (Dense)              (None, 10)                650       \n",
      "_________________________________________________________________\n",
      "activation_3 (Activation)    (None, 10)                0         \n",
      "=================================================================\n",
      "Total params: 218,058\n",
      "Trainable params: 218,058\n",
      "Non-trainable params: 0\n",
      "_________________________________________________________________\n"
     ]
    }
   ],
   "source": [
    "model=Sequential()\n",
    "model.add(Dense(256,input_shape=(784,)))#first hidden layer\n",
    "model.add(Activation('relu'))#activation of the first layer\n",
    "\n",
    "model.add(Dense(64))# second hidden layer\n",
    "model.add(Activation('relu'))\n",
    "\n",
    "model.add(Dense(10))#third hidden layer\n",
    "model.add(Activation('softmax'))# activations mein parameters nhin hote hain\n",
    "\n",
    "model.summary()"
   ]
  },
  {
   "cell_type": "code",
   "execution_count": 7,
   "metadata": {},
   "outputs": [],
   "source": [
    "#for classification, cross entropy loss is used\n",
    "model.compile(optimizer='sgd',loss='categorical_crossentropy',metrics=['accuracy'])"
   ]
  },
  {
   "cell_type": "code",
   "execution_count": 8,
   "metadata": {},
   "outputs": [
    {
     "name": "stdout",
     "output_type": "stream",
     "text": [
      "Train on 8000 samples, validate on 2000 samples\n",
      "Epoch 1/50\n",
      " - 0s - loss: 2.0697 - acc: 0.2863 - val_loss: 1.8537 - val_acc: 0.4250\n",
      "Epoch 2/50\n",
      " - 0s - loss: 1.6775 - acc: 0.5405 - val_loss: 1.5217 - val_acc: 0.6045\n",
      "Epoch 3/50\n",
      " - 0s - loss: 1.3965 - acc: 0.6445 - val_loss: 1.2878 - val_acc: 0.6535\n",
      "Epoch 4/50\n",
      " - 0s - loss: 1.2043 - acc: 0.6704 - val_loss: 1.1338 - val_acc: 0.6760\n",
      "Epoch 5/50\n",
      " - 0s - loss: 1.0759 - acc: 0.6849 - val_loss: 1.0191 - val_acc: 0.6925\n",
      "Epoch 6/50\n",
      " - 0s - loss: 0.9859 - acc: 0.6981 - val_loss: 0.9478 - val_acc: 0.6990\n",
      "Epoch 7/50\n",
      " - 0s - loss: 0.9201 - acc: 0.7120 - val_loss: 0.8962 - val_acc: 0.7120\n",
      "Epoch 8/50\n",
      " - 0s - loss: 0.8714 - acc: 0.7206 - val_loss: 0.8576 - val_acc: 0.7160\n",
      "Epoch 9/50\n",
      " - 0s - loss: 0.8319 - acc: 0.7324 - val_loss: 0.8231 - val_acc: 0.7235\n",
      "Epoch 10/50\n",
      " - 0s - loss: 0.8017 - acc: 0.7442 - val_loss: 0.7919 - val_acc: 0.7485\n",
      "Epoch 11/50\n",
      " - 0s - loss: 0.7744 - acc: 0.7545 - val_loss: 0.7807 - val_acc: 0.7420\n",
      "Epoch 12/50\n",
      " - 0s - loss: 0.7529 - acc: 0.7612 - val_loss: 0.7464 - val_acc: 0.7685\n",
      "Epoch 13/50\n",
      " - 0s - loss: 0.7326 - acc: 0.7644 - val_loss: 0.7293 - val_acc: 0.7650\n",
      "Epoch 14/50\n",
      " - 0s - loss: 0.7155 - acc: 0.7726 - val_loss: 0.7106 - val_acc: 0.7755\n",
      "Epoch 15/50\n",
      " - 0s - loss: 0.6992 - acc: 0.7777 - val_loss: 0.6997 - val_acc: 0.7725\n",
      "Epoch 16/50\n",
      " - 0s - loss: 0.6859 - acc: 0.7806 - val_loss: 0.6824 - val_acc: 0.7820\n",
      "Epoch 17/50\n",
      " - 0s - loss: 0.6739 - acc: 0.7840 - val_loss: 0.6654 - val_acc: 0.7860\n",
      "Epoch 18/50\n",
      " - 0s - loss: 0.6615 - acc: 0.7873 - val_loss: 0.6614 - val_acc: 0.7870\n",
      "Epoch 19/50\n",
      " - 0s - loss: 0.6516 - acc: 0.7916 - val_loss: 0.6523 - val_acc: 0.7865\n",
      "Epoch 20/50\n",
      " - 0s - loss: 0.6404 - acc: 0.7956 - val_loss: 0.6397 - val_acc: 0.7930\n",
      "Epoch 21/50\n",
      " - 0s - loss: 0.6317 - acc: 0.7987 - val_loss: 0.6470 - val_acc: 0.7845\n",
      "Epoch 22/50\n",
      " - 0s - loss: 0.6233 - acc: 0.7985 - val_loss: 0.6263 - val_acc: 0.7935\n",
      "Epoch 23/50\n",
      " - 0s - loss: 0.6148 - acc: 0.7998 - val_loss: 0.6224 - val_acc: 0.7980\n",
      "Epoch 24/50\n",
      " - 0s - loss: 0.6078 - acc: 0.8030 - val_loss: 0.6128 - val_acc: 0.7985\n",
      "Epoch 25/50\n",
      " - 0s - loss: 0.5993 - acc: 0.8056 - val_loss: 0.6075 - val_acc: 0.8020\n",
      "Epoch 26/50\n",
      " - 0s - loss: 0.5936 - acc: 0.8056 - val_loss: 0.5931 - val_acc: 0.8070\n",
      "Epoch 27/50\n",
      " - 0s - loss: 0.5862 - acc: 0.8135 - val_loss: 0.5900 - val_acc: 0.8005\n",
      "Epoch 28/50\n",
      " - 0s - loss: 0.5796 - acc: 0.8109 - val_loss: 0.5793 - val_acc: 0.8095\n",
      "Epoch 29/50\n",
      " - 0s - loss: 0.5741 - acc: 0.8119 - val_loss: 0.5829 - val_acc: 0.8100\n",
      "Epoch 30/50\n",
      " - 0s - loss: 0.5685 - acc: 0.8132 - val_loss: 0.5793 - val_acc: 0.8030\n",
      "Epoch 31/50\n",
      " - 0s - loss: 0.5635 - acc: 0.8162 - val_loss: 0.5667 - val_acc: 0.8040\n",
      "Epoch 32/50\n",
      " - 0s - loss: 0.5580 - acc: 0.8181 - val_loss: 0.5693 - val_acc: 0.8095\n",
      "Epoch 33/50\n",
      " - 0s - loss: 0.5530 - acc: 0.8181 - val_loss: 0.5619 - val_acc: 0.8125\n",
      "Epoch 34/50\n",
      " - 0s - loss: 0.5485 - acc: 0.8205 - val_loss: 0.5546 - val_acc: 0.8145\n",
      "Epoch 35/50\n",
      " - 0s - loss: 0.5447 - acc: 0.8194 - val_loss: 0.5529 - val_acc: 0.8130\n",
      "Epoch 36/50\n",
      " - 0s - loss: 0.5397 - acc: 0.8243 - val_loss: 0.5467 - val_acc: 0.8200\n",
      "Epoch 37/50\n",
      " - 0s - loss: 0.5363 - acc: 0.8237 - val_loss: 0.5397 - val_acc: 0.8210\n",
      "Epoch 38/50\n",
      " - 0s - loss: 0.5319 - acc: 0.8259 - val_loss: 0.5494 - val_acc: 0.8110\n",
      "Epoch 39/50\n",
      " - 0s - loss: 0.5274 - acc: 0.8249 - val_loss: 0.5489 - val_acc: 0.8160\n",
      "Epoch 40/50\n",
      " - 0s - loss: 0.5240 - acc: 0.8275 - val_loss: 0.5371 - val_acc: 0.8195\n",
      "Epoch 41/50\n",
      " - 0s - loss: 0.5201 - acc: 0.8293 - val_loss: 0.5302 - val_acc: 0.8235\n",
      "Epoch 42/50\n",
      " - 0s - loss: 0.5171 - acc: 0.8294 - val_loss: 0.5413 - val_acc: 0.8120\n",
      "Epoch 43/50\n",
      " - 0s - loss: 0.5136 - acc: 0.8303 - val_loss: 0.5360 - val_acc: 0.8155\n",
      "Epoch 44/50\n",
      " - 0s - loss: 0.5091 - acc: 0.8324 - val_loss: 0.5298 - val_acc: 0.8160\n",
      "Epoch 45/50\n",
      " - 0s - loss: 0.5070 - acc: 0.8327 - val_loss: 0.5505 - val_acc: 0.8075\n",
      "Epoch 46/50\n",
      " - 0s - loss: 0.5070 - acc: 0.8327 - val_loss: 0.5149 - val_acc: 0.8250\n",
      "Epoch 47/50\n",
      " - 0s - loss: 0.5021 - acc: 0.8320 - val_loss: 0.5288 - val_acc: 0.8165\n",
      "Epoch 48/50\n",
      " - 0s - loss: 0.4998 - acc: 0.8339 - val_loss: 0.5510 - val_acc: 0.8030\n",
      "Epoch 49/50\n",
      " - 0s - loss: 0.4963 - acc: 0.8366 - val_loss: 0.5105 - val_acc: 0.8275\n",
      "Epoch 50/50\n",
      " - 0s - loss: 0.4930 - acc: 0.8363 - val_loss: 0.5067 - val_acc: 0.8265\n"
     ]
    }
   ],
   "source": [
    "hist=model.fit(X_train,Y_train,batch_size=256,epochs=50,verbose=2,validation_data=(X_val,Y_val))"
   ]
  },
  {
   "cell_type": "code",
   "execution_count": 9,
   "metadata": {},
   "outputs": [
    {
     "data": {
      "image/png": "[encoded data removed]",
      "text/plain": [
       "<Figure size 432x288 with 1 Axes>"
      ]
     },
     "metadata": {},
     "output_type": "display_data"
    }
   ],
   "source": [
    "plt.figure(0)\n",
    "plt.plot(hist.history['loss'],'g')\n",
    "plt.plot(hist.history['val_loss'],'b')\n",
    "plt.plot(hist.history['acc'],'pink')\n",
    "plt.plot(hist.history['val_acc'],'black')\n",
    "plt.show()"
   ]
  },
  {
   "cell_type": "code",
   "execution_count": 10,
   "metadata": {},
   "outputs": [
    {
     "data": {
      "text/plain": [
       "[<matplotlib.lines.Line2D at 0x7fccaf8b9940>]"
      ]
     },
     "execution_count": 10,
     "metadata": {},
     "output_type": "execute_result"
    },
    {
     "data": {
      "image/png": "[encoded data removed]",
      "text/plain": [
       "<Figure size 432x288 with 1 Axes>"
      ]
     },
     "metadata": {},
     "output_type": "display_data"
    }
   ],
   "source": [
    "plt.plot(hist.history['loss'],'r')\n",
    "plt.plot(hist.history['val_loss'],'y')"
   ]
  },
  {
   "cell_type": "code",
   "execution_count": null,
   "metadata": {},
   "outputs": [],
   "source": []
  }
 ],
 "metadata": {
  "kernelspec": {
   "display_name": "Python 3",
   "language": "python",
   "name": "python3"
  },
  "language_info": {
   "codemirror_mode": {
    "name": "ipython",
    "version": 3
   },
   "file_extension": ".py",
   "mimetype": "text/x-python",
   "name": "python",
   "nbconvert_exporter": "python",
   "pygments_lexer": "ipython3",
   "version": "3.6.5"
  }
 },
 "nbformat": 4,
 "nbformat_minor": 2
}
