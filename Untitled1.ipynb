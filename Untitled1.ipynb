{
 "cells": [
  {
   "cell_type": "code",
   "execution_count": 34,
   "metadata": {},
   "outputs": [],
   "source": [
    "import keras\n",
    "import tensorflow\n",
    "import pandas as pd\n",
    "import numpy as np\n",
    "from keras.layers import Dense,Activation# a hidden layer is known as dense in keras\n",
    "from keras.models import Sequential\n",
    "from keras.utils import np_utils# converts classes in one-hot encoding\n",
    "import matplotlib.pyplot as plt\n"
   ]
  },
  {
   "cell_type": "code",
   "execution_count": 8,
   "metadata": {},
   "outputs": [
    {
     "data": {
      "text/plain": [
       "'2.2.2'"
      ]
     },
     "execution_count": 8,
     "metadata": {},
     "output_type": "execute_result"
    }
   ],
   "source": [
    "keras.__version__"
   ]
  },
  {
   "cell_type": "code",
   "execution_count": 17,
   "metadata": {},
   "outputs": [
    {
     "name": "stdout",
     "output_type": "stream",
     "text": [
      "(10000, 784) (10000,)\n"
     ]
    }
   ],
   "source": [
    "x=pd.read_csv('./class_11/fashion-mnist_test.csv')\n",
    "X_=np.array(x)\n",
    "X=X_[:,1:]\n",
    "X=X/255.0\n",
    "y=X_[:,0]\n",
    "print(X.shape,y.shape)"
   ]
  },
  {
   "cell_type": "code",
   "execution_count": 18,
   "metadata": {},
   "outputs": [
    {
     "name": "stdout",
     "output_type": "stream",
     "text": [
      "(10000, 10)\n"
     ]
    }
   ],
   "source": [
    "y=np_utils.to_categorical(y)\n",
    "print(y.shape)"
   ]
  },
  {
   "cell_type": "code",
   "execution_count": 19,
   "metadata": {},
   "outputs": [
    {
     "name": "stdout",
     "output_type": "stream",
     "text": [
      "(8000, 784) (8000, 10) (2000, 784) (2000, 10)\n"
     ]
    }
   ],
   "source": [
    "X_train=X[:8000,:]\n",
    "Y_train=y[:8000,:]\n",
    "X_val=X[8000:,:]\n",
    "Y_val=y[8000:,:]\n",
    "print(X_train.shape,Y_train.shape,X_val.shape,Y_val.shape)"
   ]
  },
  {
   "cell_type": "code",
   "execution_count": 48,
   "metadata": {},
   "outputs": [
    {
     "name": "stdout",
     "output_type": "stream",
     "text": [
      "_________________________________________________________________\n",
      "Layer (type)                 Output Shape              Param #   \n",
      "=================================================================\n",
      "dense_13 (Dense)             (None, 256)               200960    \n",
      "_________________________________________________________________\n",
      "activation_13 (Activation)   (None, 256)               0         \n",
      "_________________________________________________________________\n",
      "dense_14 (Dense)             (None, 64)                16448     \n",
      "_________________________________________________________________\n",
      "activation_14 (Activation)   (None, 64)                0         \n",
      "_________________________________________________________________\n",
      "dense_15 (Dense)             (None, 10)                650       \n",
      "_________________________________________________________________\n",
      "activation_15 (Activation)   (None, 10)                0         \n",
      "=================================================================\n",
      "Total params: 218,058\n",
      "Trainable params: 218,058\n",
      "Non-trainable params: 0\n",
      "_________________________________________________________________\n"
     ]
    }
   ],
   "source": [
    "model=Sequential()\n",
    "model.add(Dense(256,input_shape=(784,)))#first hidden layer\n",
    "model.add(Activation('relu'))#activation of the first layer\n",
    "\n",
    "model.add(Dense(64))# second hidden layer\n",
    "model.add(Activation('relu'))\n",
    "\n",
    "model.add(Dense(10))#third hidden layer\n",
    "model.add(Activation('softmax'))# activations mein parameters nhin hote hain\n",
    "\n",
    "model.summary()"
   ]
  },
  {
   "cell_type": "code",
   "execution_count": 54,
   "metadata": {},
   "outputs": [],
   "source": [
    "#for classification, cross entropy loss is used\n",
    "model.compile(optimizer='adam',loss='categorical_crossentropy',metrics=['accuracy'])"
   ]
  },
  {
   "cell_type": "code",
   "execution_count": 55,
   "metadata": {},
   "outputs": [
    {
     "name": "stdout",
     "output_type": "stream",
     "text": [
      "Train on 8000 samples, validate on 2000 samples\n",
      "Epoch 1/50\n",
      " - 1s - loss: 0.6627 - acc: 0.7879 - val_loss: 0.4896 - val_acc: 0.8320\n",
      "Epoch 2/50\n",
      " - 0s - loss: 0.4693 - acc: 0.8414 - val_loss: 0.4875 - val_acc: 0.8305\n",
      "Epoch 3/50\n",
      " - 0s - loss: 0.4365 - acc: 0.8516 - val_loss: 0.4530 - val_acc: 0.8430\n",
      "Epoch 4/50\n",
      " - 0s - loss: 0.4083 - acc: 0.8600 - val_loss: 0.4309 - val_acc: 0.8520\n",
      "Epoch 5/50\n",
      " - 0s - loss: 0.4002 - acc: 0.8598 - val_loss: 0.4372 - val_acc: 0.8405\n",
      "Epoch 6/50\n",
      " - 0s - loss: 0.3525 - acc: 0.8776 - val_loss: 0.3955 - val_acc: 0.8630\n",
      "Epoch 7/50\n",
      " - 0s - loss: 0.3389 - acc: 0.8816 - val_loss: 0.3908 - val_acc: 0.8665\n",
      "Epoch 8/50\n",
      " - 0s - loss: 0.3187 - acc: 0.8871 - val_loss: 0.3978 - val_acc: 0.8620\n",
      "Epoch 9/50\n",
      " - 0s - loss: 0.3125 - acc: 0.8877 - val_loss: 0.3970 - val_acc: 0.8645\n",
      "Epoch 10/50\n",
      " - 0s - loss: 0.2932 - acc: 0.8936 - val_loss: 0.4051 - val_acc: 0.8535\n",
      "Epoch 11/50\n",
      " - 0s - loss: 0.2867 - acc: 0.8962 - val_loss: 0.3786 - val_acc: 0.8705\n",
      "Epoch 12/50\n",
      " - 0s - loss: 0.2755 - acc: 0.9048 - val_loss: 0.3752 - val_acc: 0.8680\n",
      "Epoch 13/50\n",
      " - 0s - loss: 0.2613 - acc: 0.9051 - val_loss: 0.3621 - val_acc: 0.8750\n",
      "Epoch 14/50\n",
      " - 0s - loss: 0.2522 - acc: 0.9074 - val_loss: 0.3672 - val_acc: 0.8720\n",
      "Epoch 15/50\n",
      " - 0s - loss: 0.2373 - acc: 0.9163 - val_loss: 0.3416 - val_acc: 0.8875\n",
      "Epoch 16/50\n",
      " - 0s - loss: 0.2201 - acc: 0.9204 - val_loss: 0.3661 - val_acc: 0.8725\n",
      "Epoch 17/50\n",
      " - 0s - loss: 0.2196 - acc: 0.9201 - val_loss: 0.3611 - val_acc: 0.8755\n",
      "Epoch 18/50\n",
      " - 0s - loss: 0.2005 - acc: 0.9301 - val_loss: 0.3898 - val_acc: 0.8645\n",
      "Epoch 19/50\n",
      " - 0s - loss: 0.1956 - acc: 0.9313 - val_loss: 0.3727 - val_acc: 0.8745\n",
      "Epoch 20/50\n",
      " - 0s - loss: 0.1956 - acc: 0.9295 - val_loss: 0.3465 - val_acc: 0.8755\n",
      "Epoch 21/50\n",
      " - 0s - loss: 0.1741 - acc: 0.9389 - val_loss: 0.3475 - val_acc: 0.8805\n",
      "Epoch 22/50\n",
      " - 0s - loss: 0.1722 - acc: 0.9416 - val_loss: 0.3483 - val_acc: 0.8820\n",
      "Epoch 23/50\n",
      " - 0s - loss: 0.1589 - acc: 0.9461 - val_loss: 0.4827 - val_acc: 0.8460\n",
      "Epoch 24/50\n",
      " - 0s - loss: 0.1731 - acc: 0.9391 - val_loss: 0.3520 - val_acc: 0.8815\n",
      "Epoch 25/50\n",
      " - 0s - loss: 0.1546 - acc: 0.9474 - val_loss: 0.3754 - val_acc: 0.8805\n",
      "Epoch 26/50\n",
      " - 0s - loss: 0.1648 - acc: 0.9414 - val_loss: 0.3711 - val_acc: 0.8760\n",
      "Epoch 27/50\n",
      " - 0s - loss: 0.1458 - acc: 0.9509 - val_loss: 0.3585 - val_acc: 0.8775\n",
      "Epoch 28/50\n",
      " - 0s - loss: 0.1534 - acc: 0.9441 - val_loss: 0.3913 - val_acc: 0.8740\n",
      "Epoch 29/50\n",
      " - 0s - loss: 0.1334 - acc: 0.9560 - val_loss: 0.3655 - val_acc: 0.8820\n",
      "Epoch 30/50\n",
      " - 0s - loss: 0.1261 - acc: 0.9584 - val_loss: 0.3668 - val_acc: 0.8785\n",
      "Epoch 31/50\n",
      " - 0s - loss: 0.1326 - acc: 0.9544 - val_loss: 0.4066 - val_acc: 0.8735\n",
      "Epoch 32/50\n",
      " - 0s - loss: 0.1282 - acc: 0.9547 - val_loss: 0.4146 - val_acc: 0.8770\n",
      "Epoch 33/50\n",
      " - 0s - loss: 0.1175 - acc: 0.9577 - val_loss: 0.3788 - val_acc: 0.8815\n",
      "Epoch 34/50\n",
      " - 0s - loss: 0.1128 - acc: 0.9603 - val_loss: 0.4000 - val_acc: 0.8660\n",
      "Epoch 35/50\n",
      " - 0s - loss: 0.1084 - acc: 0.9619 - val_loss: 0.3795 - val_acc: 0.8765\n",
      "Epoch 36/50\n",
      " - 0s - loss: 0.0986 - acc: 0.9702 - val_loss: 0.4303 - val_acc: 0.8695\n",
      "Epoch 37/50\n",
      " - 0s - loss: 0.1011 - acc: 0.9664 - val_loss: 0.4086 - val_acc: 0.8760\n",
      "Epoch 38/50\n",
      " - 0s - loss: 0.1017 - acc: 0.9649 - val_loss: 0.3756 - val_acc: 0.8830\n",
      "Epoch 39/50\n",
      " - 0s - loss: 0.0870 - acc: 0.9734 - val_loss: 0.3820 - val_acc: 0.8815\n",
      "Epoch 40/50\n",
      " - 0s - loss: 0.0820 - acc: 0.9746 - val_loss: 0.4283 - val_acc: 0.8650\n",
      "Epoch 41/50\n",
      " - 0s - loss: 0.0792 - acc: 0.9750 - val_loss: 0.4077 - val_acc: 0.8815\n",
      "Epoch 42/50\n",
      " - 0s - loss: 0.0840 - acc: 0.9715 - val_loss: 0.4419 - val_acc: 0.8705\n",
      "Epoch 43/50\n",
      " - 0s - loss: 0.0903 - acc: 0.9679 - val_loss: 0.4307 - val_acc: 0.8715\n",
      "Epoch 44/50\n",
      " - 0s - loss: 0.0869 - acc: 0.9695 - val_loss: 0.4322 - val_acc: 0.8725\n",
      "Epoch 45/50\n",
      " - 0s - loss: 0.0864 - acc: 0.9694 - val_loss: 0.4424 - val_acc: 0.8750\n",
      "Epoch 46/50\n",
      " - 0s - loss: 0.0781 - acc: 0.9732 - val_loss: 0.4316 - val_acc: 0.8740\n",
      "Epoch 47/50\n",
      " - 0s - loss: 0.0662 - acc: 0.9774 - val_loss: 0.4363 - val_acc: 0.8730\n",
      "Epoch 48/50\n",
      " - 0s - loss: 0.0631 - acc: 0.9809 - val_loss: 0.4332 - val_acc: 0.8735\n",
      "Epoch 49/50\n",
      " - 0s - loss: 0.0539 - acc: 0.9829 - val_loss: 0.4278 - val_acc: 0.8775\n",
      "Epoch 50/50\n",
      " - 0s - loss: 0.0692 - acc: 0.9756 - val_loss: 0.4526 - val_acc: 0.8710\n"
     ]
    }
   ],
   "source": [
    "hist=model.fit(X_train,Y_train,batch_size=256,epochs=50,verbose=2,validation_data=(X_val,Y_val))"
   ]
  },
  {
   "cell_type": "code",
   "execution_count": 59,
   "metadata": {},
   "outputs": [
    {
     "data": {
      "image/png": "[encoded data removed]",
      "text/plain": [
       "<Figure size 432x288 with 1 Axes>"
      ]
     },
     "metadata": {},
     "output_type": "display_data"
    }
   ],
   "source": [
    "plt.figure(0)\n",
    "plt.plot(hist.history['loss'],'g')\n",
    "plt.plot(hist.history['val_loss'],'b')\n",
    "plt.plot(hist.history['acc'],'pink')\n",
    "plt.plot(hist.history['val_acc'],'black')\n",
    "plt.show()"
   ]
  },
  {
   "cell_type": "code",
   "execution_count": 57,
   "metadata": {},
   "outputs": [
    {
     "data": {
      "text/plain": [
       "[<matplotlib.lines.Line2D at 0x7fd88a996e10>]"
      ]
     },
     "execution_count": 57,
     "metadata": {},
     "output_type": "execute_result"
    },
    {
     "data": {
      "image/png": "[encoded data removed]",
      "text/plain": [
       "<Figure size 432x288 with 1 Axes>"
      ]
     },
     "metadata": {},
     "output_type": "display_data"
    }
   ],
   "source": [
    "plt.plot(hist.history['loss'],'r')\n",
    "plt.plot(hist.history['val_loss'],'y')"
   ]
  },
  {
   "cell_type": "code",
   "execution_count": null,
   "metadata": {},
   "outputs": [],
   "source": []
  }
 ],
 "metadata": {
  "kernelspec": {
   "display_name": "Python 3",
   "language": "python",
   "name": "python3"
  },
  "language_info": {
   "codemirror_mode": {
    "name": "ipython",
    "version": 3
   },
   "file_extension": ".py",
   "mimetype": "text/x-python",
   "name": "python",
   "nbconvert_exporter": "python",
   "pygments_lexer": "ipython3",
   "version": "3.6.5"
  }
 },
 "nbformat": 4,
 "nbformat_minor": 2
}
