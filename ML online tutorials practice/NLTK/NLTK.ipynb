{
 "cells": [
  {
   "cell_type": "code",
   "execution_count": 1,
   "metadata": {},
   "outputs": [],
   "source": [
    "from nltk.corpus import brown"
   ]
  },
  {
   "cell_type": "code",
   "execution_count": 2,
   "metadata": {},
   "outputs": [],
   "source": [
    "### data collection"
   ]
  },
  {
   "cell_type": "code",
   "execution_count": 3,
   "metadata": {},
   "outputs": [
    {
     "name": "stdout",
     "output_type": "stream",
     "text": [
      "['adventure', 'belles_lettres', 'editorial', 'fiction', 'government', 'hobbies', 'humor', 'learned', 'lore', 'mystery', 'news', 'religion', 'reviews', 'romance', 'science_fiction']\n"
     ]
    }
   ],
   "source": [
    "print(brown.categories())"
   ]
  },
  {
   "cell_type": "code",
   "execution_count": 4,
   "metadata": {},
   "outputs": [],
   "source": [
    "data=brown.sents(categories='editorial')"
   ]
  },
  {
   "cell_type": "code",
   "execution_count": 5,
   "metadata": {},
   "outputs": [
    {
     "name": "stdout",
     "output_type": "stream",
     "text": [
      "['Assembly', 'session', 'brought', 'much', 'good']\n"
     ]
    }
   ],
   "source": [
    "print(data[0])"
   ]
  },
  {
   "cell_type": "code",
   "execution_count": 6,
   "metadata": {},
   "outputs": [
    {
     "name": "stdout",
     "output_type": "stream",
     "text": [
      "2997\n"
     ]
    }
   ],
   "source": [
    "print(len(data))"
   ]
  },
  {
   "cell_type": "markdown",
   "metadata": {},
   "source": [
    "# Basic NLP Pipeline\n",
    "- Data collection\n",
    "- Tokenization, Stopword, Stemming\n",
    "- Building a common vocab\n",
    "- Vectorizing the documents\n",
    "- Performing classification/clustering"
   ]
  },
  {
   "cell_type": "markdown",
   "metadata": {},
   "source": [
    "### 2. Tokenization"
   ]
  },
  {
   "cell_type": "code",
   "execution_count": 7,
   "metadata": {},
   "outputs": [
    {
     "name": "stdout",
     "output_type": "stream",
     "text": [
      "['It was a very pleasant day, the weather was cool and their were light showers', ' I went to the market to buy some fruits', '']\n"
     ]
    }
   ],
   "source": [
    "text=\"It was a very pleasant day, the weather was cool and their were light showers. I went to the market to buy some fruits.\"\n",
    "text=text.split(\".\")\n",
    "print(text)"
   ]
  },
  {
   "cell_type": "code",
   "execution_count": 8,
   "metadata": {},
   "outputs": [],
   "source": [
    "from nltk.tokenize import sent_tokenize,word_tokenize"
   ]
  },
  {
   "cell_type": "code",
   "execution_count": 9,
   "metadata": {},
   "outputs": [
    {
     "name": "stdout",
     "output_type": "stream",
     "text": [
      "['It was a very pleasant day, the weather was cool and their were light showers.', 'I went to the market to buy some fruits.']\n",
      "['It', 'was', 'a', 'very', 'pleasant', 'day', ',', 'the', 'weather', 'was', 'cool', 'and', 'their', 'were', 'light', 'showers', '.', 'I', 'went', 'to', 'the', 'market', 'to', 'buy', 'some', 'fruits', '.']\n"
     ]
    }
   ],
   "source": [
    "text=\"It was a very pleasant day, the weather was cool and their were light showers. I went to the market to buy some fruits.\"\n",
    "sents=sent_tokenize(text)\n",
    "print(sents)\n",
    "words=word_tokenize(text)\n",
    "print(words)"
   ]
  },
  {
   "cell_type": "code",
   "execution_count": 10,
   "metadata": {},
   "outputs": [],
   "source": [
    "word_list=word_tokenize(sents[0].lower())"
   ]
  },
  {
   "cell_type": "code",
   "execution_count": 11,
   "metadata": {},
   "outputs": [
    {
     "data": {
      "text/plain": [
       "list"
      ]
     },
     "execution_count": 11,
     "metadata": {},
     "output_type": "execute_result"
    }
   ],
   "source": [
    "type(sents)"
   ]
  },
  {
   "cell_type": "markdown",
   "metadata": {},
   "source": [
    "# Stopword removal"
   ]
  },
  {
   "cell_type": "code",
   "execution_count": 12,
   "metadata": {},
   "outputs": [],
   "source": [
    "from nltk.corpus import stopwords\n",
    "sw=set(stopwords.words('english'))"
   ]
  },
  {
   "cell_type": "code",
   "execution_count": 13,
   "metadata": {},
   "outputs": [
    {
     "name": "stdout",
     "output_type": "stream",
     "text": [
      "{'it', 'doesn', \"mustn't\", 'than', 'did', 'is', 'which', 'some', 'i', 'this', 'what', 'can', 'where', 'out', 'should', 'when', 'mustn', 'am', 'down', 'over', 'didn', 'will', \"wouldn't\", 'why', 'to', 'being', 'm', 'yours', 'both', 'most', 'these', 'but', \"shouldn't\", \"didn't\", 'won', 'we', 'hers', 'above', \"hadn't\", \"you'd\", 'himself', 'be', \"aren't\", 'that', 'them', 'does', 'who', 'are', 'at', 'whom', 'your', 'off', 'on', 'an', 'ours', 'between', 'their', 'any', 'you', 'there', \"couldn't\", 'ma', 'myself', 'shan', 'they', 'll', 'nor', 'more', \"she's\", 'about', 'no', \"wasn't\", 'up', 'not', \"hasn't\", \"mightn't\", \"you've\", 'my', 'only', \"you'll\", 'his', 'few', 'and', 'same', 'don', 'weren', 'for', 'has', \"shan't\", 'hadn', 'very', 't', \"should've\", 'by', 'then', 'aren', 'its', \"doesn't\", 'wouldn', 'of', 'ain', 'under', 'in', \"isn't\", 's', 'had', 'haven', 'each', 'how', 'isn', 'into', 'him', \"that'll\", 'me', \"you're\", \"it's\", 'through', 'yourself', 'having', 'just', 'theirs', 're', 'too', 'a', 'themselves', 'again', 've', 'her', 'during', 'now', \"weren't\", \"won't\", 'here', 'while', 'so', 'the', 'further', 'couldn', 'own', 'as', 'she', 'hasn', 'all', 'he', 'were', 'after', 'from', 'been', 'if', 'yourselves', 'such', 'herself', 'mightn', 'once', 'have', 'before', \"haven't\", 'with', 'y', 'doing', 'shouldn', 'needn', 'wasn', 'our', \"needn't\", \"don't\", 'because', 'those', 'until', 'was', 'or', 'itself', 'o', 'below', 'other', 'd', 'ourselves', 'do', 'against'}\n"
     ]
    }
   ],
   "source": [
    "print(sw)"
   ]
  },
  {
   "cell_type": "code",
   "execution_count": 14,
   "metadata": {},
   "outputs": [
    {
     "data": {
      "text/plain": [
       "179"
      ]
     },
     "execution_count": 14,
     "metadata": {},
     "output_type": "execute_result"
    }
   ],
   "source": [
    "len(sw)"
   ]
  },
  {
   "cell_type": "markdown",
   "metadata": {},
   "source": [
    "### Filter the words from the sentences"
   ]
  },
  {
   "cell_type": "code",
   "execution_count": 25,
   "metadata": {},
   "outputs": [],
   "source": [
    "def filter_words(word_list):\n",
    "    useful_words=[w for w in word_list if w not in sw]\n",
    "    return useful_words"
   ]
  },
  {
   "cell_type": "markdown",
   "metadata": {},
   "source": [
    "### Tokenization using Regular expression"
   ]
  },
  {
   "cell_type": "markdown",
   "metadata": {},
   "source": [
    "Problem with word tokenizer- can't handle complex tokenizations. So we use Regexp tokenizer class in nltk"
   ]
  },
  {
   "cell_type": "code",
   "execution_count": 16,
   "metadata": {},
   "outputs": [],
   "source": [
    "from nltk.tokenize import RegexpTokenizer"
   ]
  },
  {
   "cell_type": "code",
   "execution_count": 17,
   "metadata": {},
   "outputs": [],
   "source": [
    "tokenizer= RegexpTokenizer(\"[a-zA-z]+\")"
   ]
  },
  {
   "cell_type": "code",
   "execution_count": 19,
   "metadata": {},
   "outputs": [
    {
     "name": "stdout",
     "output_type": "stream",
     "text": [
      "['Send', 'all', 'the', 'documents', 'related', 'to', 'clauses', 'at', 'abc', 'xyz', 'com']\n"
     ]
    }
   ],
   "source": [
    "text=\"Send all the 50 documents related to clauses 1,2,3 at abc@xyz.com\"\n",
    "print(tokenizer.tokenize(text))"
   ]
  },
  {
   "cell_type": "markdown",
   "metadata": {},
   "source": [
    "### Stemming\n",
    "- Process that transforms particular words[verbs,plurals] into their radical form.\n",
    "- Preserve the semantics of the sentence without increasing the number of unique tokens.\n",
    "- jumps, jumping, jumped,jump==>jump"
   ]
  },
  {
   "cell_type": "code",
   "execution_count": 27,
   "metadata": {},
   "outputs": [],
   "source": [
    "text=\"Foxes love to make jumps. The quick brown fox was seen jumping over the lovely dog from a 6ft high wall.\"\n",
    "text=text.lower()\n",
    "word_list=tokenizer.tokenize(text)"
   ]
  },
  {
   "cell_type": "code",
   "execution_count": 28,
   "metadata": {},
   "outputs": [
    {
     "name": "stdout",
     "output_type": "stream",
     "text": [
      "['foxes', 'love', 'make', 'jumps', 'quick', 'brown', 'fox', 'seen', 'jumping', 'lovely', 'dog', 'ft', 'high', 'wall']\n"
     ]
    }
   ],
   "source": [
    "word_list=filter_words(word_list)\n",
    "print(word_list)"
   ]
  },
  {
   "cell_type": "code",
   "execution_count": 29,
   "metadata": {},
   "outputs": [],
   "source": [
    "# Stemming - 1) Snowball Stemmer, Porter, Lancaster"
   ]
  },
  {
   "cell_type": "code",
   "execution_count": 41,
   "metadata": {},
   "outputs": [],
   "source": [
    "from nltk.stem.snowball import PorterStemmer,SnowballStemmer\n",
    "from nltk.stem.lancaster import LancasterStemmer\n",
    "ps=PorterStemmer()"
   ]
  },
  {
   "cell_type": "code",
   "execution_count": 42,
   "metadata": {},
   "outputs": [
    {
     "data": {
      "text/plain": [
       "'jump'"
      ]
     },
     "execution_count": 42,
     "metadata": {},
     "output_type": "execute_result"
    }
   ],
   "source": [
    "ps.stem(\"Jumps\")"
   ]
  },
  {
   "cell_type": "code",
   "execution_count": 43,
   "metadata": {},
   "outputs": [
    {
     "data": {
      "text/plain": [
       "'jump'"
      ]
     },
     "execution_count": 43,
     "metadata": {},
     "output_type": "execute_result"
    }
   ],
   "source": [
    "ps.stem(\"Jumping\")"
   ]
  },
  {
   "cell_type": "code",
   "execution_count": 44,
   "metadata": {},
   "outputs": [
    {
     "data": {
      "text/plain": [
       "'love'"
      ]
     },
     "execution_count": 44,
     "metadata": {},
     "output_type": "execute_result"
    }
   ],
   "source": [
    "ps.stem(\"Lovely\")"
   ]
  },
  {
   "cell_type": "code",
   "execution_count": 45,
   "metadata": {},
   "outputs": [
    {
     "data": {
      "text/plain": [
       "'awesom'"
      ]
     },
     "execution_count": 45,
     "metadata": {},
     "output_type": "execute_result"
    }
   ],
   "source": [
    "ps.stem(\"awesome\")"
   ]
  },
  {
   "cell_type": "code",
   "execution_count": 46,
   "metadata": {},
   "outputs": [
    {
     "name": "stdout",
     "output_type": "stream",
     "text": [
      "teenag\n",
      "teen\n"
     ]
    }
   ],
   "source": [
    "ls=LancasterStemmer()\n",
    "ls.stem(\"teeth\")\n",
    "print(ps.stem(\"teenager\")) #english\n",
    "print(ls.stem(\"teenager\")) #english"
   ]
  },
  {
   "cell_type": "code",
   "execution_count": 48,
   "metadata": {},
   "outputs": [
    {
     "name": "stdout",
     "output_type": "stream",
     "text": [
      "love\n",
      "teenag\n"
     ]
    }
   ],
   "source": [
    "#Snowball stemmer\n",
    "ss=SnowballStemmer('english')\n",
    "print(ss.stem('Lovely'))\n",
    "print(ss.stem('teenager'))"
   ]
  },
  {
   "cell_type": "code",
   "execution_count": 49,
   "metadata": {},
   "outputs": [
    {
     "name": "stdout",
     "output_type": "stream",
     "text": [
      "couri\n"
     ]
    }
   ],
   "source": [
    "ss_french=SnowballStemmer('french')\n",
    "print(ss_french.stem('Courias'))"
   ]
  },
  {
   "cell_type": "markdown",
   "metadata": {},
   "source": [
    "### Work: \n",
    "write a function which perfroms all the three steps- Tokenization, Stopword Removal,Stemming. Remove and leading or trailing white spaces "
   ]
  },
  {
   "cell_type": "code",
   "execution_count": 66,
   "metadata": {},
   "outputs": [],
   "source": [
    "def data_fixer(word_list):\n",
    "    tokenizer= RegexpTokenizer(\"[a-zA-z]+\")\n",
    "    word_list=tokenizer.tokenize(word_list)\n",
    "    sw=set(stopwords.words('english'))\n",
    "    word_list=[w for w in word_list if w not in sw]\n",
    "    ps=PorterStemmer()\n",
    "    word_list=[ps.stem(w) for w in word_list ]\n",
    "    word_list=set(word_list)\n",
    "    word_list=list(word_list)\n",
    "    return word_list\n",
    "    "
   ]
  },
  {
   "cell_type": "code",
   "execution_count": 67,
   "metadata": {},
   "outputs": [
    {
     "name": "stdout",
     "output_type": "stream",
     "text": [
      "foxes love to make jumps. the quick brown fox was seen jumping over the lovely dog from a 6ft high wall.\n",
      "['wall', 'seen', 'quick', 'dog', 'make', 'fox', 'jump', 'brown', 'love', 'high', 'ft']\n"
     ]
    }
   ],
   "source": [
    "print(text)\n",
    "print(data_fixer(text))"
   ]
  },
  {
   "cell_type": "code",
   "execution_count": null,
   "metadata": {},
   "outputs": [],
   "source": []
  }
 ],
 "metadata": {
  "kernelspec": {
   "display_name": "Python 3",
   "language": "python",
   "name": "python3"
  },
  "language_info": {
   "codemirror_mode": {
    "name": "ipython",
    "version": 3
   },
   "file_extension": ".py",
   "mimetype": "text/x-python",
   "name": "python",
   "nbconvert_exporter": "python",
   "pygments_lexer": "ipython3",
   "version": "3.6.7"
  }
 },
 "nbformat": 4,
 "nbformat_minor": 2
}
