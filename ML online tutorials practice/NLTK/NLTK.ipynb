{
 "cells": [
  {
   "cell_type": "code",
   "execution_count": 1,
   "metadata": {},
   "outputs": [],
   "source": [
    "from nltk.corpus import brown"
   ]
  },
  {
   "cell_type": "code",
   "execution_count": 13,
   "metadata": {},
   "outputs": [],
   "source": [
    "### data collection"
   ]
  },
  {
   "cell_type": "code",
   "execution_count": 3,
   "metadata": {},
   "outputs": [
    {
     "name": "stdout",
     "output_type": "stream",
     "text": [
      "['adventure', 'belles_lettres', 'editorial', 'fiction', 'government', 'hobbies', 'humor', 'learned', 'lore', 'mystery', 'news', 'religion', 'reviews', 'romance', 'science_fiction']\n"
     ]
    }
   ],
   "source": [
    "print(brown.categories())"
   ]
  },
  {
   "cell_type": "code",
   "execution_count": 5,
   "metadata": {},
   "outputs": [],
   "source": [
    "data=brown.sents(categories='editorial')"
   ]
  },
  {
   "cell_type": "code",
   "execution_count": 11,
   "metadata": {},
   "outputs": [
    {
     "name": "stdout",
     "output_type": "stream",
     "text": [
      "['Assembly', 'session', 'brought', 'much', 'good']\n"
     ]
    }
   ],
   "source": [
    "print(data[0])"
   ]
  },
  {
   "cell_type": "code",
   "execution_count": 8,
   "metadata": {},
   "outputs": [
    {
     "name": "stdout",
     "output_type": "stream",
     "text": [
      "2997\n"
     ]
    }
   ],
   "source": [
    "print(len(data))"
   ]
  },
  {
   "cell_type": "markdown",
   "metadata": {},
   "source": [
    "# Basic NLP Pipeline\n",
    "- Data collection\n",
    "- Tokenization, Stopword, Stemming\n",
    "- Building a common vocab\n",
    "- Vectorizing the documents\n",
    "- Performing classification/clustering"
   ]
  },
  {
   "cell_type": "markdown",
   "metadata": {},
   "source": [
    "### 2. Tokenization"
   ]
  },
  {
   "cell_type": "code",
   "execution_count": 21,
   "metadata": {},
   "outputs": [
    {
     "name": "stdout",
     "output_type": "stream",
     "text": [
      "['It was a very pleasant day, the weather was cool and their were light showers', ' I went to the market to buy some fruits', '']\n"
     ]
    }
   ],
   "source": [
    "text=\"It was a very pleasant day, the weather was cool and their were light showers. I went to the market to buy some fruits.\"\n",
    "text=text.split(\".\")\n",
    "print(text)"
   ]
  },
  {
   "cell_type": "code",
   "execution_count": 22,
   "metadata": {},
   "outputs": [],
   "source": [
    "from nltk.tokenize import sent_tokenize,word_tokenize"
   ]
  },
  {
   "cell_type": "code",
   "execution_count": 23,
   "metadata": {},
   "outputs": [
    {
     "name": "stdout",
     "output_type": "stream",
     "text": [
      "['It was a very pleasant day, the weather was cool and their were light showers.', 'I went to the market to buy some fruits.']\n",
      "['It', 'was', 'a', 'very', 'pleasant', 'day', ',', 'the', 'weather', 'was', 'cool', 'and', 'their', 'were', 'light', 'showers', '.', 'I', 'went', 'to', 'the', 'market', 'to', 'buy', 'some', 'fruits', '.']\n"
     ]
    }
   ],
   "source": [
    "text=\"It was a very pleasant day, the weather was cool and their were light showers. I went to the market to buy some fruits.\"\n",
    "sents=sent_tokenize(text)\n",
    "print(sents)\n",
    "words=word_tokenize(text)\n",
    "print(words)"
   ]
  },
  {
   "cell_type": "code",
   "execution_count": 36,
   "metadata": {},
   "outputs": [],
   "source": [
    "word_list=word_tokenize(sents[0].lower())"
   ]
  },
  {
   "cell_type": "code",
   "execution_count": 26,
   "metadata": {},
   "outputs": [
    {
     "data": {
      "text/plain": [
       "list"
      ]
     },
     "execution_count": 26,
     "metadata": {},
     "output_type": "execute_result"
    }
   ],
   "source": [
    "type(sents)"
   ]
  },
  {
   "cell_type": "markdown",
   "metadata": {},
   "source": [
    "# Stopword removal"
   ]
  },
  {
   "cell_type": "code",
   "execution_count": 27,
   "metadata": {},
   "outputs": [],
   "source": [
    "from nltk.corpus import stopwords\n",
    "sw=set(stopwords.words('english'))"
   ]
  },
  {
   "cell_type": "code",
   "execution_count": 28,
   "metadata": {},
   "outputs": [
    {
     "name": "stdout",
     "output_type": "stream",
     "text": [
      "{\"you'll\", 'am', 'you', 'over', \"mustn't\", 'down', 'couldn', 'they', 'was', 'more', \"she's\", 'against', 'has', 'own', 'each', 'for', 'is', \"you've\", 'how', 'than', \"you're\", 'into', 'where', 'didn', 'itself', 'are', 'from', 'now', 'll', 'them', 'but', 'what', 're', 'in', \"doesn't\", 'no', 'yourself', 'about', 'd', \"wasn't\", \"shan't\", 'will', 'being', 'during', 'who', 'isn', 'herself', 'my', 'to', 'same', \"didn't\", 'further', 'there', 'because', 'it', 'himself', 'mustn', 'any', 'an', 'been', 'those', 'a', 'not', 'such', 'ma', 'y', 'be', 'doesn', 'these', 'at', 'me', 'up', 'she', 'm', 'hasn', 'through', 'when', \"haven't\", \"needn't\", 'as', \"wouldn't\", 'themselves', 'why', \"mightn't\", 'o', 'off', \"weren't\", 'theirs', 'the', 'with', 'that', 'very', 'wouldn', \"you'd\", 'nor', 'his', 'just', \"don't\", 'aren', 'all', 'having', \"should've\", 'hers', 'before', 'both', 'yourselves', \"that'll\", 'their', 'some', 's', 'ours', 'we', 'do', 'most', 'him', 'her', 'were', \"aren't\", 'whom', 'wasn', 'needn', 'below', 'its', 'once', 'out', 'again', 'mightn', 'until', 'hadn', 'too', 'our', 'between', 'of', 'while', 'shan', \"it's\", 'and', 'then', 'after', 't', 'on', 'ain', 'this', 'weren', 'which', 'yours', 'myself', 'your', 'can', 'so', 'other', \"won't\", 've', \"shouldn't\", 'shouldn', \"isn't\", \"hasn't\", 'above', 'he', 'by', 'if', 'haven', 'have', 'did', \"couldn't\", 'under', 'here', 'does', 'don', \"hadn't\", 'won', 'i', 'ourselves', 'few', 'only', 'should', 'doing', 'or', 'had'}\n"
     ]
    }
   ],
   "source": [
    "print(sw)"
   ]
  },
  {
   "cell_type": "code",
   "execution_count": 29,
   "metadata": {},
   "outputs": [
    {
     "data": {
      "text/plain": [
       "179"
      ]
     },
     "execution_count": 29,
     "metadata": {},
     "output_type": "execute_result"
    }
   ],
   "source": [
    "len(sw)"
   ]
  },
  {
   "cell_type": "markdown",
   "metadata": {},
   "source": [
    "### Filter the words from the sentences"
   ]
  },
  {
   "cell_type": "code",
   "execution_count": 37,
   "metadata": {},
   "outputs": [
    {
     "name": "stdout",
     "output_type": "stream",
     "text": [
      "['pleasant', 'day', ',', 'weather', 'cool', 'light', 'showers', '.']\n"
     ]
    }
   ],
   "source": [
    "useful_words=[w for w in word_list if w not in sw]\n",
    "print(useful_words)"
   ]
  },
  {
   "cell_type": "code",
   "execution_count": null,
   "metadata": {},
   "outputs": [],
   "source": []
  }
 ],
 "metadata": {
  "kernelspec": {
   "display_name": "Python 3",
   "language": "python",
   "name": "python3"
  },
  "language_info": {
   "codemirror_mode": {
    "name": "ipython",
    "version": 3
   },
   "file_extension": ".py",
   "mimetype": "text/x-python",
   "name": "python",
   "nbconvert_exporter": "python",
   "pygments_lexer": "ipython3",
   "version": "3.6.6"
  }
 },
 "nbformat": 4,
 "nbformat_minor": 2
}
