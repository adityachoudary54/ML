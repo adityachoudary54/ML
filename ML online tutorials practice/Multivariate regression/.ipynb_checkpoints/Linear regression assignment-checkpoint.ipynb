{
 "cells": [
  {
   "cell_type": "code",
   "execution_count": 2,
   "metadata": {},
   "outputs": [],
   "source": [
    "import numpy as np\n",
    "import pandas as pd\n",
    "import matplotlib.pyplot as plt"
   ]
  },
  {
   "cell_type": "code",
   "execution_count": 3,
   "metadata": {},
   "outputs": [
    {
     "name": "stdout",
     "output_type": "stream",
     "text": [
      "(400, 6)\n",
      "(1600, 6)\n"
     ]
    }
   ],
   "source": [
    "data_train=pd.read_csv(\"../assignment_datasets/Regression_Data/Train.csv\")\n",
    "data_test=pd.read_csv(\"../assignment_datasets/Regression_Data/Test.csv\")\n",
    "print(data_test.shape)\n",
    "print(data_train.shape)"
   ]
  },
  {
   "cell_type": "code",
   "execution_count": 4,
   "metadata": {},
   "outputs": [
    {
     "data": {
      "text/html": [
       "<div>\n",
       "<style scoped>\n",
       "    .dataframe tbody tr th:only-of-type {\n",
       "        vertical-align: middle;\n",
       "    }\n",
       "\n",
       "    .dataframe tbody tr th {\n",
       "        vertical-align: top;\n",
       "    }\n",
       "\n",
       "    .dataframe thead th {\n",
       "        text-align: right;\n",
       "    }\n",
       "</style>\n",
       "<table border=\"1\" class=\"dataframe\">\n",
       "  <thead>\n",
       "    <tr style=\"text-align: right;\">\n",
       "      <th></th>\n",
       "      <th>feature_1</th>\n",
       "      <th>feature_2</th>\n",
       "      <th>feature_3</th>\n",
       "      <th>feature_4</th>\n",
       "      <th>feature_5</th>\n",
       "      <th>target</th>\n",
       "    </tr>\n",
       "  </thead>\n",
       "  <tbody>\n",
       "    <tr>\n",
       "      <th>0</th>\n",
       "      <td>0.293416</td>\n",
       "      <td>-0.945599</td>\n",
       "      <td>-0.421105</td>\n",
       "      <td>0.406816</td>\n",
       "      <td>0.525662</td>\n",
       "      <td>-82.154667</td>\n",
       "    </tr>\n",
       "    <tr>\n",
       "      <th>1</th>\n",
       "      <td>-0.836084</td>\n",
       "      <td>-0.189228</td>\n",
       "      <td>-0.776403</td>\n",
       "      <td>-1.053831</td>\n",
       "      <td>0.597997</td>\n",
       "      <td>-48.897960</td>\n",
       "    </tr>\n",
       "    <tr>\n",
       "      <th>2</th>\n",
       "      <td>0.236425</td>\n",
       "      <td>0.132836</td>\n",
       "      <td>-0.147723</td>\n",
       "      <td>0.699854</td>\n",
       "      <td>-0.187364</td>\n",
       "      <td>77.270371</td>\n",
       "    </tr>\n",
       "    <tr>\n",
       "      <th>3</th>\n",
       "      <td>0.175312</td>\n",
       "      <td>0.143194</td>\n",
       "      <td>-0.581111</td>\n",
       "      <td>-0.122107</td>\n",
       "      <td>-1.292168</td>\n",
       "      <td>-2.988581</td>\n",
       "    </tr>\n",
       "    <tr>\n",
       "      <th>4</th>\n",
       "      <td>-1.693011</td>\n",
       "      <td>0.542712</td>\n",
       "      <td>-2.798729</td>\n",
       "      <td>-0.686723</td>\n",
       "      <td>1.244077</td>\n",
       "      <td>-37.596722</td>\n",
       "    </tr>\n",
       "    <tr>\n",
       "      <th>5</th>\n",
       "      <td>-1.055329</td>\n",
       "      <td>-0.874807</td>\n",
       "      <td>0.580753</td>\n",
       "      <td>-0.773541</td>\n",
       "      <td>1.070888</td>\n",
       "      <td>-122.405263</td>\n",
       "    </tr>\n",
       "    <tr>\n",
       "      <th>6</th>\n",
       "      <td>-0.824707</td>\n",
       "      <td>0.499427</td>\n",
       "      <td>1.293281</td>\n",
       "      <td>-0.240671</td>\n",
       "      <td>-0.419136</td>\n",
       "      <td>1.413741</td>\n",
       "    </tr>\n",
       "    <tr>\n",
       "      <th>7</th>\n",
       "      <td>-1.936602</td>\n",
       "      <td>0.583708</td>\n",
       "      <td>-0.521135</td>\n",
       "      <td>-0.631724</td>\n",
       "      <td>-1.030729</td>\n",
       "      <td>-13.306543</td>\n",
       "    </tr>\n",
       "    <tr>\n",
       "      <th>8</th>\n",
       "      <td>0.647431</td>\n",
       "      <td>-0.265401</td>\n",
       "      <td>0.327080</td>\n",
       "      <td>0.457829</td>\n",
       "      <td>-1.757592</td>\n",
       "      <td>-25.754698</td>\n",
       "    </tr>\n",
       "    <tr>\n",
       "      <th>9</th>\n",
       "      <td>-1.133029</td>\n",
       "      <td>-0.839132</td>\n",
       "      <td>-0.547809</td>\n",
       "      <td>0.551768</td>\n",
       "      <td>-0.639173</td>\n",
       "      <td>-57.077754</td>\n",
       "    </tr>\n",
       "  </tbody>\n",
       "</table>\n",
       "</div>"
      ],
      "text/plain": [
       "   feature_1  feature_2  feature_3  feature_4  feature_5      target\n",
       "0   0.293416  -0.945599  -0.421105   0.406816   0.525662  -82.154667\n",
       "1  -0.836084  -0.189228  -0.776403  -1.053831   0.597997  -48.897960\n",
       "2   0.236425   0.132836  -0.147723   0.699854  -0.187364   77.270371\n",
       "3   0.175312   0.143194  -0.581111  -0.122107  -1.292168   -2.988581\n",
       "4  -1.693011   0.542712  -2.798729  -0.686723   1.244077  -37.596722\n",
       "5  -1.055329  -0.874807   0.580753  -0.773541   1.070888 -122.405263\n",
       "6  -0.824707   0.499427   1.293281  -0.240671  -0.419136    1.413741\n",
       "7  -1.936602   0.583708  -0.521135  -0.631724  -1.030729  -13.306543\n",
       "8   0.647431  -0.265401   0.327080   0.457829  -1.757592  -25.754698\n",
       "9  -1.133029  -0.839132  -0.547809   0.551768  -0.639173  -57.077754"
      ]
     },
     "execution_count": 4,
     "metadata": {},
     "output_type": "execute_result"
    }
   ],
   "source": [
    "data_train[:10]"
   ]
  },
  {
   "cell_type": "code",
   "execution_count": 5,
   "metadata": {},
   "outputs": [
    {
     "name": "stdout",
     "output_type": "stream",
     "text": [
      "(1600, 5)\n",
      "(400, 5)\n",
      "(1600,)\n",
      "(400,)\n"
     ]
    }
   ],
   "source": [
    "X_train=np.array(data_train)\n",
    "X_test=np.array(data_test)\n",
    "Y_train=X_train[:,X_train.shape[1]-1]\n",
    "Y_test=X_test[:,X_test.shape[1]-1]\n",
    "X_train=X_train[:,:X_train.shape[1]-1]\n",
    "X_test=X_test[:,:X_test.shape[1]-1]\n",
    "print(X_train.shape)\n",
    "print(X_test.shape)\n",
    "print(Y_train.shape)\n",
    "print(Y_test.shape)\n"
   ]
  },
  {
   "cell_type": "code",
   "execution_count": 6,
   "metadata": {},
   "outputs": [
    {
     "name": "stdout",
     "output_type": "stream",
     "text": [
      "(3, 2) (3, 1)\n",
      "[[1 4]\n",
      " [2 5]\n",
      " [3 6]]\n",
      "[[1 4 4]\n",
      " [2 5 5]\n",
      " [3 6 6]]\n"
     ]
    },
    {
     "data": {
      "text/plain": [
       "(3, 1)"
      ]
     },
     "execution_count": 6,
     "metadata": {},
     "output_type": "execute_result"
    }
   ],
   "source": [
    "a = np.array([[1],[2],[3]])\n",
    "b= np.array([[4],[5],[6]])\n",
    "c=np.hstack((a,b))\n",
    "d=np.hstack((c,b))\n",
    "print(c.shape,b.shape)\n",
    "print(c)\n",
    "print(d)\n",
    "a.shape"
   ]
  },
  {
   "cell_type": "code",
   "execution_count": 7,
   "metadata": {},
   "outputs": [
    {
     "name": "stdout",
     "output_type": "stream",
     "text": [
      "(6,)\n",
      "1.0\n",
      "(1600, 1)\n",
      "(1600,)\n",
      "[[ 1.          0.29341624 -0.94559871 -0.42110515  0.40681602  0.52566183]\n",
      " [ 1.         -0.83608408 -0.18922804 -0.77640262 -1.05383124  0.59799685]\n",
      " [ 1.          0.23642511  0.13283602 -0.14772298  0.69985396 -0.18736416]\n",
      " ...\n",
      " [ 1.          1.04417694 -0.89920649  1.73039905 -1.87105676  0.44251965]\n",
      " [ 1.         -1.2691729  -0.00505216  1.85766873 -1.08036482  0.73633394]\n",
      " [ 1.         -1.88400025 -0.84942743 -1.45227035  0.48861308  1.4595758 ]]\n",
      "-1.2575491301892177\n"
     ]
    }
   ],
   "source": [
    "theta=np.ones((1+X_train.shape[1],))\n",
    "print(theta.shape)\n",
    "print(theta[1])\n",
    "ones=np.ones((X_train.shape[0],1))#most important line for stacking\n",
    "print(ones.shape)\n",
    "X=X_train[:,0]\n",
    "print(X.shape)\n",
    "X=np.hstack((ones,X_train))\n",
    "print(X)\n",
    "print(np.dot(theta,X[1,:]))"
   ]
  },
  {
   "cell_type": "code",
   "execution_count": 43,
   "metadata": {},
   "outputs": [],
   "source": [
    "def hypothesis(theta,x):\n",
    "    return np.dot(theta,x)\n",
    "def gradient(hyp,y,x):\n",
    "    return (hyp-y)*x\n",
    "def gradientdescent(X,Y,learning_rate=0.00005):\n",
    "    theta=np.zeros((1+X.shape[1],))\n",
    "    ones=np.ones((X.shape[0],1))\n",
    "    X=np.hstack((ones,X))\n",
    "    err=[]\n",
    "    #hyp=hypothesis(theta,x)\n",
    "    prev_error=0\n",
    "    error=1\n",
    "    while(abs(prev_error-error)>0.9):\n",
    "        prev_error=error\n",
    "        error=[]\n",
    "        for i in range(X.shape[0]):\n",
    "            hyp=hypothesis(theta,X[i,:])\n",
    "            for j in range(X.shape[1]):\n",
    "                #print(gradient(hyp,Y[i],X[i,j]))\n",
    "                theta[j] = theta[j] -learning_rate*gradient(hyp,Y[i],X[i,j])\n",
    "            error.append((hypothesis(theta,X[i,:])-Y[i])**2)\n",
    "        error=np.array(error)\n",
    "        error=error.sum()\n",
    "        err.append(error)\n",
    "    err=np.array(err)\n",
    "    return theta,err\n",
    "def prediction(test_x,theta):\n",
    "    ones=np.ones((1,))\n",
    "    #print(ones.shape,test_x.shape)\n",
    "    test_x=np.hstack((ones,test_x))\n",
    "    #print(ones.shape,test_x.shape)\n",
    "    pred=hypothesis(theta,test_x)\n",
    "    return pred"
   ]
  },
  {
   "cell_type": "code",
   "execution_count": 204,
   "metadata": {},
   "outputs": [],
   "source": [
    "def batchgradientdescent(X,Y,batches=11,learning_rate=0.00005):\n",
    "    theta=np.zeros((1+X.shape[1],))\n",
    "    ones=np.ones((X.shape[0],1))\n",
    "    X=np.hstack((ones,X))\n",
    "    err=1\n",
    "    #hyp=hypothesis(theta,x)\n",
    "    prev_error=0\n",
    "    batch_size=X.shape[0]/batches\n",
    "    batch_size=int(batch_size)\n",
    "    m=X.shape[0]\n",
    "    indices = np.arange(m)\n",
    "    np.random.shuffle(indices)\n",
    "    k=0\n",
    "    error=[]\n",
    "    while(abs(prev_error-err)>=1):\n",
    "        prev_error=err\n",
    "        for b in range(batches):\n",
    "            indexes = indices[b*batch_size:(b+1)*batch_size]\n",
    "            err=[]\n",
    "            for i in indexes:\n",
    "                hyp=hypothesis(theta,X[i,:])\n",
    "                for j in range(X.shape[1]):\n",
    "                    #print(gradient(hyp,Y[i],X[i,j]))\n",
    "                    theta[j] = theta[j] -learning_rate*gradient(hyp,Y[i],X[i,j])\n",
    "                err.append((hypothesis(theta,X[i,:])-Y[i])**2)\n",
    "            err=np.array(err)\n",
    "            err=err.sum()\n",
    "            error.append(err)\n",
    "    error=np.array(error)\n",
    "    return theta,error"
   ]
  },
  {
   "cell_type": "code",
   "execution_count": 98,
   "metadata": {},
   "outputs": [],
   "source": [
    "def score(X,Y):\n",
    "    ss_tot=0\n",
    "    ss_res=0\n",
    "    theta,_=gradientdescent(X,Y)\n",
    "    for i in range(Y.shape[0]):\n",
    "        y=prediction(X[i],theta)\n",
    "        ss_res=ss_res+(y-Y[i])**2\n",
    "        ss_tot=ss_tot+(y-y_mean)**2\n",
    "    return 1-ss_res/ss_tot"
   ]
  },
  {
   "cell_type": "code",
   "execution_count": 99,
   "metadata": {},
   "outputs": [
    {
     "name": "stdout",
     "output_type": "stream",
     "text": [
      "Testing score:0.9684\n",
      "Training scores:0.9649\n"
     ]
    }
   ],
   "source": [
    "#plt.plot(range(200),gradientdescent(X_train,Y_train))\n",
    "print(\"Testing score:{0:.4f}\".format(score(X_test,Y_test)))\n",
    "print(\"Training scores:{0:.4f}\".format(score(X_train,Y_train)))\n"
   ]
  },
  {
   "cell_type": "code",
   "execution_count": 123,
   "metadata": {},
   "outputs": [
    {
     "name": "stdout",
     "output_type": "stream",
     "text": [
      "[ 4.95866805 29.68734336 92.63296358  8.24942383 44.7262016   2.5204977 ]\n"
     ]
    },
    {
     "data": {
      "text/plain": [
       "[<matplotlib.lines.Line2D at 0x7f6ac1b6f048>]"
      ]
     },
     "execution_count": 123,
     "metadata": {},
     "output_type": "execute_result"
    },
    {
     "data": {
      "image/png": "[encoded data removed]",
      "text/plain": [
       "<Figure size 432x288 with 1 Axes>"
      ]
     },
     "metadata": {},
     "output_type": "display_data"
    }
   ],
   "source": [
    "theta,error=gradientdescent(X_train,Y_train)\n",
    "print(theta)\n",
    "plt.plot(range(error.shape[0]),error)"
   ]
  },
  {
   "cell_type": "code",
   "execution_count": 101,
   "metadata": {},
   "outputs": [
    {
     "name": "stdout",
     "output_type": "stream",
     "text": [
      "Intercept is:4.959\n",
      "Theta is [29.68734336 92.63296358  8.24942383 44.7262016   2.5204977 ]\n"
     ]
    }
   ],
   "source": [
    "# Value of coefficient, hypothesis and intercept\n",
    "theta,_=gradientdescent(X_train,Y_train)\n",
    "intercept=theta[0]\n",
    "theta=theta[1:]\n",
    "print(\"Intercept is:{0:.3f}\".format(intercept))\n",
    "print(\"Theta is {}\".format(theta))"
   ]
  },
  {
   "cell_type": "code",
   "execution_count": 205,
   "metadata": {},
   "outputs": [
    {
     "name": "stdout",
     "output_type": "stream",
     "text": [
      "[ 4.99000277 29.68204651 92.60686734  8.28483266 44.77197534  2.54805703]\n"
     ]
    },
    {
     "data": {
      "text/plain": [
       "[<matplotlib.lines.Line2D at 0x7f6ac132c860>]"
      ]
     },
     "execution_count": 205,
     "metadata": {},
     "output_type": "execute_result"
    },
    {
     "data": {
      "image/png": "[encoded data removed]",
      "text/plain": [
       "<Figure size 432x288 with 1 Axes>"
      ]
     },
     "metadata": {},
     "output_type": "display_data"
    }
   ],
   "source": [
    "theta,error=batchgradientdescent(X_train,Y_train)\n",
    "print(theta)\n",
    "plt.plot(range(error.shape[0]),error)"
   ]
  },
  {
   "cell_type": "code",
   "execution_count": 197,
   "metadata": {},
   "outputs": [
    {
     "data": {
      "text/plain": [
       "570"
      ]
     },
     "execution_count": 197,
     "metadata": {},
     "output_type": "execute_result"
    }
   ],
   "source": [
    "error.shape[0]"
   ]
  },
  {
   "cell_type": "code",
   "execution_count": 162,
   "metadata": {},
   "outputs": [
    {
     "data": {
      "text/plain": [
       "array([1217.93782877, 1217.93782877, 1217.93782877, ..., 1217.93782877,\n",
       "       1217.93782877, 1217.93782877])"
      ]
     },
     "execution_count": 162,
     "metadata": {},
     "output_type": "execute_result"
    }
   ],
   "source": [
    "error"
   ]
  },
  {
   "cell_type": "code",
   "execution_count": null,
   "metadata": {},
   "outputs": [],
   "source": []
  }
 ],
 "metadata": {
  "kernelspec": {
   "display_name": "Python 3",
   "language": "python",
   "name": "python3"
  },
  "language_info": {
   "codemirror_mode": {
    "name": "ipython",
    "version": 3
   },
   "file_extension": ".py",
   "mimetype": "text/x-python",
   "name": "python",
   "nbconvert_exporter": "python",
   "pygments_lexer": "ipython3",
   "version": "3.6.6"
  }
 },
 "nbformat": 4,
 "nbformat_minor": 2
}
