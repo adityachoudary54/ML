{
 "cells": [
  {
   "cell_type": "markdown",
   "metadata": {},
   "source": [
    "# Linear regression on Boston dataset(Multivariate case using sklearn)"
   ]
  },
  {
   "cell_type": "code",
   "execution_count": 1,
   "metadata": {},
   "outputs": [],
   "source": [
    "from sklearn.datasets import load_boston\n",
    "boston=load_boston()\n",
    "import matplotlib.pyplot as plt\n",
    "import numpy as np\n",
    "import pandas as pd"
   ]
  },
  {
   "cell_type": "code",
   "execution_count": 2,
   "metadata": {},
   "outputs": [
    {
     "name": "stdout",
     "output_type": "stream",
     "text": [
      "(506, 13)\n",
      "(506,)\n"
     ]
    }
   ],
   "source": [
    "X=boston.data\n",
    "Y=boston.target\n",
    "print(X.shape)\n",
    "print(Y.shape)"
   ]
  },
  {
   "cell_type": "code",
   "execution_count": 3,
   "metadata": {},
   "outputs": [],
   "source": [
    "from sklearn.linear_model import LinearRegression\n",
    "from sklearn.model_selection import train_test_split"
   ]
  },
  {
   "cell_type": "code",
   "execution_count": 4,
   "metadata": {},
   "outputs": [
    {
     "name": "stdout",
     "output_type": "stream",
     "text": [
      "(404, 13)\n",
      "(102, 13)\n"
     ]
    }
   ],
   "source": [
    "X_train,X_test,Y_train,Y_test=train_test_split(X,Y,test_size=0.2)# It performs a random split\n",
    "print(X_train.shape)\n",
    "print(X_test.shape)"
   ]
  },
  {
   "cell_type": "markdown",
   "metadata": {},
   "source": [
    "# Train our regression model"
   ]
  },
  {
   "cell_type": "code",
   "execution_count": 5,
   "metadata": {},
   "outputs": [
    {
     "name": "stdout",
     "output_type": "stream",
     "text": [
      "[-1.05030877e-01  5.34552442e-02  2.59080797e-02  2.64230347e+00\n",
      " -1.48254941e+01  3.99435479e+00 -1.00859198e-02 -1.53403020e+00\n",
      "  2.92296949e-01 -1.17306822e-02 -8.18057324e-01  1.16348524e-02\n",
      " -5.42106173e-01]\n",
      "<class 'numpy.ndarray'>\n",
      "(13,)\n",
      "31.45080029527451\n"
     ]
    }
   ],
   "source": [
    "# 1. Create an object\n",
    "lr=LinearRegression(normalize=True)#by default normalization is false\n",
    "# 2. Training\n",
    "lr.fit(X_train,Y_train)\n",
    "# 3. Output parameters\n",
    "print(lr.coef_)#[theta(1)...........theta(n)]\n",
    "print(type(lr.coef_))\n",
    "print(lr.coef_.shape)\n",
    "print(lr.intercept_)#theta(0)\n",
    "#print(lr)"
   ]
  },
  {
   "cell_type": "markdown",
   "metadata": {},
   "source": [
    "# Accuracy of regression"
   ]
  },
  {
   "cell_type": "code",
   "execution_count": 6,
   "metadata": {},
   "outputs": [
    {
     "name": "stdout",
     "output_type": "stream",
     "text": [
      "Training score 0.7423\n",
      "Testing score 0.7217\n"
     ]
    }
   ],
   "source": [
    "print(\"Training score {0:0.4f}\".format(lr.score(X_train,Y_train)))\n",
    "print(\"Testing score {0:0.4f}\".format(lr.score(X_test,Y_test)))"
   ]
  },
  {
   "cell_type": "markdown",
   "metadata": {},
   "source": [
    "# Cross validation"
   ]
  },
  {
   "cell_type": "code",
   "execution_count": 7,
   "metadata": {},
   "outputs": [],
   "source": [
    "from sklearn.model_selection import cross_val_score"
   ]
  },
  {
   "cell_type": "code",
   "execution_count": 8,
   "metadata": {},
   "outputs": [],
   "source": [
    "scores=cross_val_score(lr,X_train,Y_train,cv=10,scoring='r2')"
   ]
  },
  {
   "cell_type": "code",
   "execution_count": 9,
   "metadata": {},
   "outputs": [
    {
     "name": "stdout",
     "output_type": "stream",
     "text": [
      "[0.77921299 0.55743577 0.71338928 0.71122901 0.73724189 0.68188983\n",
      " 0.77185166 0.64949753 0.7990118  0.74029889]\n"
     ]
    }
   ],
   "source": [
    "print(scores)"
   ]
  },
  {
   "cell_type": "code",
   "execution_count": 10,
   "metadata": {},
   "outputs": [
    {
     "data": {
      "text/plain": [
       "0.7141058651256038"
      ]
     },
     "execution_count": 10,
     "metadata": {},
     "output_type": "execute_result"
    }
   ],
   "source": [
    "scores.mean()"
   ]
  },
  {
   "cell_type": "code",
   "execution_count": 11,
   "metadata": {},
   "outputs": [
    {
     "data": {
      "text/plain": [
       "0.06765375159363074"
      ]
     },
     "execution_count": 11,
     "metadata": {},
     "output_type": "execute_result"
    }
   ],
   "source": [
    "scores.std()"
   ]
  },
  {
   "cell_type": "code",
   "execution_count": 12,
   "metadata": {},
   "outputs": [],
   "source": [
    "scores=cross_val_score(lr,X_train,Y_train,cv=10,scoring='neg_mean_squared_error')"
   ]
  },
  {
   "cell_type": "code",
   "execution_count": 13,
   "metadata": {},
   "outputs": [
    {
     "name": "stdout",
     "output_type": "stream",
     "text": [
      "[-19.31477619 -35.07867305 -20.87792186 -19.87415061 -30.31990588\n",
      " -21.39990727 -15.64754103 -43.67088988 -19.53529786 -13.41677634]\n",
      "-23.913583998397606\n",
      "8.981820566731994\n"
     ]
    }
   ],
   "source": [
    "print(scores)\n",
    "print(scores.mean())\n",
    "print(scores.std())"
   ]
  },
  {
   "cell_type": "markdown",
   "metadata": {},
   "source": [
    "# Using for other datasets"
   ]
  },
  {
   "cell_type": "code",
   "execution_count": 14,
   "metadata": {},
   "outputs": [
    {
     "name": "stdout",
     "output_type": "stream",
     "text": [
      "(400, 6)\n",
      "(1600, 6)\n"
     ]
    }
   ],
   "source": [
    "data_train=pd.read_csv(\"../assignment_datasets/Regression_Data/Train.csv\")\n",
    "data_test=pd.read_csv(\"../assignment_datasets/Regression_Data/Test.csv\")\n",
    "print(data_test.shape)\n",
    "print(data_train.shape)"
   ]
  },
  {
   "cell_type": "code",
   "execution_count": 15,
   "metadata": {},
   "outputs": [
    {
     "name": "stdout",
     "output_type": "stream",
     "text": [
      "(1600, 5)\n",
      "(400, 5)\n",
      "(1600,)\n",
      "(400,)\n"
     ]
    }
   ],
   "source": [
    "X_train=np.array(data_train)\n",
    "X_test=np.array(data_test)\n",
    "Y_train=X_train[:,X_train.shape[1]-1]\n",
    "Y_test=X_test[:,X_test.shape[1]-1]\n",
    "X_train=X_train[:,:X_train.shape[1]-1]\n",
    "X_test=X_test[:,:X_test.shape[1]-1]\n",
    "print(X_train.shape)\n",
    "print(X_test.shape)\n",
    "print(Y_train.shape)\n",
    "print(Y_test.shape)\n"
   ]
  },
  {
   "cell_type": "code",
   "execution_count": 16,
   "metadata": {},
   "outputs": [
    {
     "name": "stdout",
     "output_type": "stream",
     "text": [
      "[29.68187118 92.66247759  8.28062089 44.76773522  2.51916121]\n",
      "<class 'numpy.ndarray'>\n",
      "(5,)\n",
      "4.990966735574953\n"
     ]
    }
   ],
   "source": [
    "# 1. Create an object\n",
    "lr=LinearRegression(normalize=True)#by default normalization is false\n",
    "# 2. Training\n",
    "lr.fit(X_train,Y_train)\n",
    "# 3. Output parameters\n",
    "print(lr.coef_)#[theta(1)...........theta(n)]\n",
    "print(type(lr.coef_))\n",
    "print(lr.coef_.shape)\n",
    "print(lr.intercept_)#theta(0)\n",
    "#print(lr)"
   ]
  },
  {
   "cell_type": "code",
   "execution_count": 17,
   "metadata": {},
   "outputs": [
    {
     "name": "stdout",
     "output_type": "stream",
     "text": [
      "Training score 0.9661\n",
      "Testing score 0.9691\n"
     ]
    }
   ],
   "source": [
    "print(\"Training score {0:0.4f}\".format(lr.score(X_train,Y_train)))\n",
    "print(\"Testing score {0:0.4f}\".format(lr.score(X_test,Y_test)))"
   ]
  },
  {
   "cell_type": "code",
   "execution_count": 19,
   "metadata": {},
   "outputs": [
    {
     "name": "stdout",
     "output_type": "stream",
     "text": [
      "[0.9610164  0.96149496 0.96608191 0.9683588  0.97188542 0.96304279\n",
      " 0.96626553 0.96918625 0.96516174 0.96258389]\n"
     ]
    }
   ],
   "source": [
    "from sklearn.model_selection import cross_val_score\n",
    "scores=cross_val_score(lr,X_train,Y_train,cv=10,scoring='r2')\n",
    "print(scores)"
   ]
  },
  {
   "cell_type": "code",
   "execution_count": null,
   "metadata": {},
   "outputs": [],
   "source": []
  }
 ],
 "metadata": {
  "kernelspec": {
   "display_name": "Python 3",
   "language": "python",
   "name": "python3"
  },
  "language_info": {
   "codemirror_mode": {
    "name": "ipython",
    "version": 3
   },
   "file_extension": ".py",
   "mimetype": "text/x-python",
   "name": "python",
   "nbconvert_exporter": "python",
   "pygments_lexer": "ipython3",
   "version": "3.6.6"
  }
 },
 "nbformat": 4,
 "nbformat_minor": 2
}
