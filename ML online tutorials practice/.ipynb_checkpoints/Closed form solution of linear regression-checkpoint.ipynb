{
 "cells": [
  {
   "cell_type": "code",
   "execution_count": 1,
   "metadata": {},
   "outputs": [],
   "source": [
    "import pandas as pd\n",
    "import numpy as np\n",
    "import matplotlib.pyplot as plt"
   ]
  },
  {
   "cell_type": "code",
   "execution_count": 2,
   "metadata": {},
   "outputs": [
    {
     "name": "stdout",
     "output_type": "stream",
     "text": [
      "(400, 6)\n",
      "(1600, 6)\n"
     ]
    }
   ],
   "source": [
    "data_train=pd.read_csv(\"./assignment_datasets/Regression_Data/Train.csv\")\n",
    "data_test=pd.read_csv(\"./assignment_datasets/Regression_Data/Test.csv\")\n",
    "print(data_test.shape)\n",
    "print(data_train.shape)"
   ]
  },
  {
   "cell_type": "code",
   "execution_count": 3,
   "metadata": {},
   "outputs": [
    {
     "name": "stdout",
     "output_type": "stream",
     "text": [
      "(1600, 5)\n",
      "(400, 5)\n",
      "(1600,)\n",
      "(400,)\n",
      "(1600, 6)\n",
      "[[ 1.          0.29341624 -0.94559871 -0.42110515  0.40681602  0.52566183]\n",
      " [ 1.         -0.83608408 -0.18922804 -0.77640262 -1.05383124  0.59799685]\n",
      " [ 1.          0.23642511  0.13283602 -0.14772298  0.69985396 -0.18736416]\n",
      " ...\n",
      " [ 1.          1.04417694 -0.89920649  1.73039905 -1.87105676  0.44251965]\n",
      " [ 1.         -1.2691729  -0.00505216  1.85766873 -1.08036482  0.73633394]\n",
      " [ 1.         -1.88400025 -0.84942743 -1.45227035  0.48861308  1.4595758 ]]\n",
      "(400, 6)\n",
      "[[ 1.          0.29341624 -0.94559871 -0.42110515  0.40681602  0.52566183]\n",
      " [ 1.         -0.83608408 -0.18922804 -0.77640262 -1.05383124  0.59799685]\n",
      " [ 1.          0.23642511  0.13283602 -0.14772298  0.69985396 -0.18736416]\n",
      " ...\n",
      " [ 1.          1.04417694 -0.89920649  1.73039905 -1.87105676  0.44251965]\n",
      " [ 1.         -1.2691729  -0.00505216  1.85766873 -1.08036482  0.73633394]\n",
      " [ 1.         -1.88400025 -0.84942743 -1.45227035  0.48861308  1.4595758 ]]\n"
     ]
    }
   ],
   "source": [
    "#Preparing the data\n",
    "X_train=np.array(data_train)\n",
    "X_test=np.array(data_test)\n",
    "Y_train=X_train[:,X_train.shape[1]-1]\n",
    "Y_test=X_test[:,X_test.shape[1]-1]\n",
    "X_train=X_train[:,:X_train.shape[1]-1]\n",
    "X_test=X_test[:,:X_test.shape[1]-1]\n",
    "print(X_train.shape)\n",
    "print(X_test.shape)\n",
    "print(Y_train.shape)\n",
    "print(Y_test.shape)\n",
    "\n",
    "#Stacking ones in the data\n",
    "ones=np.ones((X_train.shape[0],1))\n",
    "X_train=np.hstack((ones,X_train))\n",
    "ones=np.ones((X_test.shape[0],1))\n",
    "X_test=np.hstack((ones,X_test))\n",
    "print(X_train.shape)\n",
    "print(X_train)\n",
    "print(X_test.shape)\n",
    "print(X_train)"
   ]
  },
  {
   "cell_type": "code",
   "execution_count": 4,
   "metadata": {},
   "outputs": [],
   "source": [
    "def closed_form_sol(X,Y):\n",
    "    X_trans=np.transpose(X)\n",
    "    Y_trans=np.transpose(Y)\n",
    "    theta=(np.linalg.inv(np.dot(X_trans,X))).dot(np.dot(X_trans,Y))\n",
    "    return theta\n",
    "def hypothesis(theta,x):\n",
    "    return np.dot(theta,x)\n",
    "def score(X,Y,theta):\n",
    "    ss_tot=0\n",
    "    ss_res=0\n",
    "    y_mean=np.mean(Y)\n",
    "    for i in range(Y.shape[0]):\n",
    "        y=hypothesis(theta,X[i])\n",
    "        ss_res=ss_res+(y-Y[i])**2\n",
    "        ss_tot=ss_tot+(y-y_mean)**2\n",
    "    return 1-ss_res/ss_tot"
   ]
  },
  {
   "cell_type": "code",
   "execution_count": 5,
   "metadata": {},
   "outputs": [
    {
     "name": "stdout",
     "output_type": "stream",
     "text": [
      "Validation score is:0.9649\n",
      "Testing score is:0.9682\n"
     ]
    }
   ],
   "source": [
    "theta=closed_form_sol(X_train,Y_train)\n",
    "print(\"Validation score is:{0:.4f}\".format(score(X_train,Y_train,theta)))\n",
    "print(\"Testing score is:{0:.4f}\".format(score(X_test,Y_test,theta)))"
   ]
  }
 ],
 "metadata": {
  "kernelspec": {
   "display_name": "Python 3",
   "language": "python",
   "name": "python3"
  },
  "language_info": {
   "codemirror_mode": {
    "name": "ipython",
    "version": 3
   },
   "file_extension": ".py",
   "mimetype": "text/x-python",
   "name": "python",
   "nbconvert_exporter": "python",
   "pygments_lexer": "ipython3",
   "version": "3.6.7"
  }
 },
 "nbformat": 4,
 "nbformat_minor": 2
}
