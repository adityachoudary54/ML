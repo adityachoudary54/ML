{
 "cells": [
  {
   "cell_type": "markdown",
   "metadata": {},
   "source": [
    "\n",
    "# Questions to practice\n",
    "## Questions\n",
    "1. Calculate length of a list\n",
    "2. which will create a list: - some_list = list() - some_list = list([1, 2, 3]) - some_list\n",
    "= [1, 2, 3] - some_list = list(1, 2, 3)\n",
    "3. let a list be s = [1, 3, 2, 1, 5, 3, 9] . use min(s) , max(s) , sum(s) . also calculate the\n",
    "average of the list.\n",
    "4. use import random and call random.shuffle(some_list) to shuffle the contents of the list\n",
    "some_list .\n",
    "5. print the last 3 elements of a list without using for loops.\n",
    "6. let some_list = [1, 2, 3, 6, 5, 1, 7, 3] . what is the output of: - some_list[:-1] -\n",
    "some_list[-4:-2] - some_list[2:-3]\n",
    "7. Let this section of code<br/>\n",
    "def extendList(val, list=[]):<br/>\n",
    "list.append(val)<br/>\n",
    "return list<br/>\n",
    "list1 = extendList(10)<br/>\n",
    "list2 = extendList(123,[])<br/>\n",
    "list3 = extendList('a')<br/>\n",
    "print \"list1 = %s\" % list1<br/>\n",
    "print \"list2 = %s\" % list2<br/>\n",
    "print \"list3 = %s\" % list3<br/>\n",
    "What should be the output?<br/>\n",
    "Why is it different?<br/>\n",
    "How to fix this?<br/>\n",
    "8. given some code using classes:<br/>\n",
    "    class A():<br/>\n",
    "    x = 1<br/>\n",
    "    a = A()<br/>\n",
    "    print a.x<br/>\n",
    "    b = [A()] * 10<br/>\n",
    "    for ix in b:<br/>\n",
    "    print ix.x<br/>\n",
    "    b[2].x = 5<br/>\n",
    "    for ix in b:<br/>\n",
    "    print ix.x<br/>\n",
    "    Why is output different from expected?<br/>\n",
    "9 . use sorted in lists. consider the code below:<br/>\n",
    "class Obj:<br/>\n",
    "def __init__(self, a=0, b=1):<br/>\n",
    "self.a = a<br/>\n",
    "self.b = b<br/>\n",
    "if __name__ == \"__main__\":<br/>\n",
    "objects = [Obj(1, 2), Obj(5, 4), Obj(7, 3),<br/>\n",
    "Obj(11, 42), Obj(8, 0), Obj(5, 9)]<br/>\n",
    "Sort the above list of objects using > a as key > b as key<br/>\n",
    "10 . List and string slicing<br/>\n",
    "s = \"This is introduction to python for web development\"<br/>\n",
    "    Obtain each word of the string in a list.<br/>\n",
    "11 . Print Pyramid patterns using for and while loops<br/>\n",
    "@<br/>\n",
    "@@<br/>\n",
    "@@@<br/>\n",
    "@@@@<br/>\n",
    "@@@@@<br/>\n",
    "12 . What will the following code print<br/>\n",
    "some_string = \"abacdaegakialaop\"<br/>\n",
    "print some_string.split('a', 2)<br/>"
   ]
  },
  {
   "cell_type": "code",
   "execution_count": 1,
   "metadata": {},
   "outputs": [
    {
     "name": "stdout",
     "output_type": "stream",
     "text": [
      "9\n"
     ]
    }
   ],
   "source": [
    "#ans1\n",
    "l=[1,2,3,4,5,6,7,8,9]\n",
    "print(len(l))"
   ]
  },
  {
   "cell_type": "markdown",
   "metadata": {},
   "source": [
    "ans2-> only 2nd and 3rd options would create the list"
   ]
  },
  {
   "cell_type": "code",
   "execution_count": 11,
   "metadata": {},
   "outputs": [
    {
     "name": "stdout",
     "output_type": "stream",
     "text": [
      "Min=1, max=9 and sum=24\n",
      "Average of s=3.429\n"
     ]
    }
   ],
   "source": [
    "#ans3\n",
    "s = [1, 3, 2, 1, 5, 3, 9]\n",
    "print(\"Min={}, max={} and sum={}\".format(min(s),max(s),sum(s)))\n",
    "print(\"Average of s={0:.3f}\".format(sum(s)/len(s)))"
   ]
  },
  {
   "cell_type": "code",
   "execution_count": 25,
   "metadata": {},
   "outputs": [
    {
     "name": "stdout",
     "output_type": "stream",
     "text": [
      "[1, 2, 3]\n"
     ]
    }
   ],
   "source": [
    "#ans4\n",
    "some_list=[1,2,3]\n",
    "print(some_list)"
   ]
  },
  {
   "cell_type": "code",
   "execution_count": 27,
   "metadata": {},
   "outputs": [
    {
     "name": "stdout",
     "output_type": "stream",
     "text": [
      "[3, 1, 2]\n"
     ]
    }
   ],
   "source": [
    "#ans4\n",
    "import random\n",
    "random.shuffle(some_list)\n",
    "print(some_list)"
   ]
  },
  {
   "cell_type": "code",
   "execution_count": 28,
   "metadata": {},
   "outputs": [
    {
     "name": "stdout",
     "output_type": "stream",
     "text": [
      "[56, 23, 64]\n"
     ]
    }
   ],
   "source": [
    "#ans5\n",
    "l=[1,4,2,242,123,56,23,64]\n",
    "print(l[-3:])"
   ]
  },
  {
   "cell_type": "code",
   "execution_count": 29,
   "metadata": {},
   "outputs": [],
   "source": [
    "#ans6\n",
    "#some_list = [1, 2, 3, 6, 5, 1, 7, 3]\n",
    "#some_list[:-1]=[1, 2, 3, 6, 5, 1, 7]\n",
    "#some_list[-4:-2]=[5,1]\n",
    "#some_list[2:-3]=[3,6,5]"
   ]
  },
  {
   "cell_type": "code",
   "execution_count": 47,
   "metadata": {},
   "outputs": [
    {
     "name": "stdout",
     "output_type": "stream",
     "text": [
      "list1 = [10, 'a']\n",
      "list2 = [123]\n",
      "list3 = [10, 'a']\n"
     ]
    }
   ],
   "source": [
    "#ans7\n",
    "def extendList(val, lis=[]):\n",
    "    lis.append(val)\n",
    "    return lis\n",
    "list1 = extendList(10)\n",
    "list2 = extendList(123,[])\n",
    "list3 = extendList('a')\n",
    "print(\"list1 = %s\" % list1)# Output is [10,'a'] but should be [10]\n",
    "print (\"list2 = %s\" % list2)# Output is [123] is correct as we thought\n",
    "print( \"list3 = %s\" % list3)# output is [10,'a'] but should be ['a']"
   ]
  },
  {
   "cell_type": "markdown",
   "metadata": {},
   "source": [
    "Many will mistakenly expect list1 to be equal to [10] and list3 to be equal to ['a'], \n",
    "thinking that the list argument will be set to its default value of [] each time extendList is called.\n",
    "\n",
    "However, what actually happens is that the new default list is created only once when the function is defined, \n",
    "and that same list is then used subsequently whenever extendList is invoked without a list argument being specified. \n",
    "This is because expressions in default arguments are calculated when the function is defined, not when it’s called."
   ]
  },
  {
   "cell_type": "code",
   "execution_count": 48,
   "metadata": {},
   "outputs": [
    {
     "name": "stdout",
     "output_type": "stream",
     "text": [
      "list1 = [10]\n",
      "list2 = [123]\n",
      "list3 = ['a']\n"
     ]
    }
   ],
   "source": [
    "#solution to problem created in ans7\n",
    "def extendList(val, list=None):\n",
    "    if list is None:\n",
    "        list = []\n",
    "    list.append(val)\n",
    "    return list\n",
    "list1 = extendList(10)\n",
    "list2 = extendList(123,[])\n",
    "list3 = extendList('a')\n",
    "print(\"list1 = %s\" % list1)\n",
    "print (\"list2 = %s\" % list2)\n",
    "print( \"list3 = %s\" % list3)"
   ]
  },
  {
   "cell_type": "code",
   "execution_count": 57,
   "metadata": {},
   "outputs": [
    {
     "name": "stdout",
     "output_type": "stream",
     "text": [
      "['', 'b', 'cdaegakialaop']\n"
     ]
    }
   ],
   "source": [
    "#ans12\n",
    "some_string = \"abacdaegakialaop\"\n",
    "print(some_string.split('a',2))# This means to split the string about first two 'a'"
   ]
  },
  {
   "cell_type": "code",
   "execution_count": 60,
   "metadata": {},
   "outputs": [
    {
     "name": "stdout",
     "output_type": "stream",
     "text": [
      "@ \n",
      "@ @ \n",
      "@ @ @ \n",
      "@ @ @ @ \n",
      "@ @ @ @ @ \n"
     ]
    }
   ],
   "source": [
    "#ans11\n",
    "for i in range(1,6):\n",
    "    for j in range(1,i+1):\n",
    "        print(\"@\",end=\" \")\n",
    "    print()"
   ]
  },
  {
   "cell_type": "code",
   "execution_count": 63,
   "metadata": {},
   "outputs": [
    {
     "name": "stdout",
     "output_type": "stream",
     "text": [
      "['This', 'is', 'introduction', 'to', 'python', 'for', 'web', 'development']\n"
     ]
    }
   ],
   "source": [
    "#ans10\n",
    "s = \"This is introduction to python for web development\"\n",
    "l=s.split();\n",
    "print(l)"
   ]
  },
  {
   "cell_type": "code",
   "execution_count": null,
   "metadata": {},
   "outputs": [],
   "source": []
  }
 ],
 "metadata": {
  "kernelspec": {
   "display_name": "Python 3",
   "language": "python",
   "name": "python3"
  },
  "language_info": {
   "codemirror_mode": {
    "name": "ipython",
    "version": 3
   },
   "file_extension": ".py",
   "mimetype": "text/x-python",
   "name": "python",
   "nbconvert_exporter": "python",
   "pygments_lexer": "ipython3",
   "version": "3.6.5"
  }
 },
 "nbformat": 4,
 "nbformat_minor": 2
}
