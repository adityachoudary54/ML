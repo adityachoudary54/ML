{
 "cells": [
  {
   "cell_type": "code",
   "execution_count": 13,
   "metadata": {},
   "outputs": [],
   "source": [
    "import pandas as pd\n",
    "import numpy as np"
   ]
  },
  {
   "cell_type": "code",
   "execution_count": 14,
   "metadata": {},
   "outputs": [],
   "source": [
    "x=pd.read_csv(\"train.csv\")\n",
    "X=np.array(x)\n",
    "X=X[:,1:]\n",
    "y=X[:,0]"
   ]
  },
  {
   "cell_type": "code",
   "execution_count": 15,
   "metadata": {},
   "outputs": [
    {
     "data": {
      "text/plain": [
       "((42000, 784), (42000,))"
      ]
     },
     "execution_count": 15,
     "metadata": {},
     "output_type": "execute_result"
    }
   ],
   "source": [
    "X.shape,y.shape"
   ]
  },
  {
   "cell_type": "code",
   "execution_count": 25,
   "metadata": {},
   "outputs": [],
   "source": [
    "X_train=X[:36000,:]\n",
    "X_val=X[36000:,:]\n",
    "y_train=y[:36000]\n",
    "y_val=y[36000:]"
   ]
  },
  {
   "cell_type": "code",
   "execution_count": 26,
   "metadata": {},
   "outputs": [],
   "source": [
    "IMG_SIZE = 28*28\n",
    "H1_SIZE = 256\n",
    "H2_SIZE = 64\n",
    "OUT_SIZE = 10\n",
    "BATCH_SIZE = 256\n",
    "EPOCH = 50\n",
    "ALPHA = 0.001"
   ]
  },
  {
   "cell_type": "code",
   "execution_count": 27,
   "metadata": {},
   "outputs": [],
   "source": [
    "def accuracy(pred,y):\n",
    "    return ( 100.0* np.sum(pred==y) / y.shape[0])"
   ]
  },
  {
   "cell_type": "code",
   "execution_count": 28,
   "metadata": {},
   "outputs": [],
   "source": [
    "def initial_weights():\n",
    "    np.random.seed(0)\n",
    "    model = {}\n",
    "    model['W1'] = np.random.randn(IMG_SIZE,H1_SIZE)/ np.sqrt(IMG_SIZE)\n",
    "    model['B1'] = np.zeros((1,H1_SIZE))\n",
    "    model['W2'] = np.random.randn(H1_SIZE,H2_SIZE)/ np.sqrt(H1_SIZE)\n",
    "    model['B2'] = np.zeros((1,H2_SIZE))\n",
    "    model['W3'] = np.random.randn(H2_SIZE,OUT_SIZE)/ np.sqrt(H2_SIZE)\n",
    "    model['B3'] = np.zeros((1,OUT_SIZE))\n",
    "    return model"
   ]
  },
  {
   "cell_type": "code",
   "execution_count": 29,
   "metadata": {},
   "outputs": [],
   "source": [
    "def forward_prop(model,x):\n",
    "    z1 = x.dot(model['W1']) + model['B1']\n",
    "    a1 = np.tanh(z1)\n",
    "    z2 = a1.dot(model['W2']) + model['B2']\n",
    "    a2 = np.tanh(z2)\n",
    "    z3 = a2.dot(model['W3']) + model['B3']\n",
    "    h_x = np.exp(z3)\n",
    "    y_out = h_x/ np.sum(h_x, axis=1, keepdims=True)\n",
    "    return a1, a2, y_out"
   ]
  },
  {
   "cell_type": "code",
   "execution_count": 30,
   "metadata": {},
   "outputs": [],
   "source": [
    "def back_prop(model, x ,a1 , a2, y, y_out):\n",
    "    delta4 = y_out\n",
    "    delta4[range(y.shape[0]), y] -= 1\n",
    "    dw3 = (a2.T).dot(delta4)\n",
    "    db3 = np.sum(delta4, axis = 0)\n",
    "    delta3 = (1 - np.square(a2))*delta4.dot(model['W3'].T)\n",
    "    dw2 = (a1.T).dot(delta3)\n",
    "    db2 = np.sum(delta3, axis = 0)\n",
    "    delta2 = (1 - np.square(a1))*delta3.dot(model['W2'].T)\n",
    "    dw1 = (x.T).dot(delta2)\n",
    "    db1 = np.sum(delta2, axis = 0)\n",
    "    \n",
    "    model['W1'] += -ALPHA*dw1\n",
    "    model['B1'] += -ALPHA*db1\n",
    "    model['W2'] += -ALPHA*dw2\n",
    "    model['B2'] += -ALPHA*db2\n",
    "    model['W3'] += -ALPHA*dw3\n",
    "    model['B3'] += -ALPHA*db3\n",
    "    \n",
    "    return model"
   ]
  },
  {
   "cell_type": "code",
   "execution_count": 31,
   "metadata": {},
   "outputs": [],
   "source": [
    "def loss(model, p, y):\n",
    "    correct_logprobs = -np.log(p[range(y.shape[0]),y])\n",
    "    l = np.sum(correct_logprobs)\n",
    "    \n",
    "    return 1.0/y.shape[0] * l"
   ]
  },
  {
   "cell_type": "code",
   "execution_count": 32,
   "metadata": {},
   "outputs": [],
   "source": [
    "def predict(y_out):\n",
    "    return np.argmax(y_out, axis = 1)"
   ]
  },
  {
   "cell_type": "code",
   "execution_count": 33,
   "metadata": {},
   "outputs": [],
   "source": [
    "def main():\n",
    "    model = initial_weights()\n",
    "    for ix in range(EPOCH):\n",
    "        print (\"\\nEpoch : %d\" %(ix+1))\n",
    "        count = 0\n",
    "        while (count+BATCH_SIZE) < y_train.shape[0]:\n",
    "            batch_data = X_train[count:(count+BATCH_SIZE),:]\n",
    "            batch_labels = y_train[count:(count+BATCH_SIZE),]\n",
    "            count += BATCH_SIZE\n",
    "            \n",
    "            a1, a2 , p = forward_prop(model, batch_data)\n",
    "            model = back_prop(model,batch_data,a1,a2,batch_labels,p)\n",
    "        \n",
    "        _,_, p = forward_prop(model, X_train)\n",
    "        training_loss=[]\n",
    "        val_los=[]\n",
    "        print ('training_loss : % .3f' % (loss(model,p,y_train)))\n",
    "        training_loss.append(loss(model,p,y_train)))\n",
    "        _,_,p = forward_prop(model, X_val)\n",
    "        pred = predict(p)\n",
    "        print ('val_accuracy : % .3f' % (accuracy(pred,y_val)))\n",
    "        val_los.append(accuracy(pred,y_val)))\n",
    "        print ('val_loss : % .3f' % loss(model,p,y_val))\n",
    "    print(\"*************Completed***********\")"
   ]
  },
  {
   "cell_type": "code",
   "execution_count": 34,
   "metadata": {
    "scrolled": true
   },
   "outputs": [
    {
     "name": "stdout",
     "output_type": "stream",
     "text": [
      "\n",
      "Epoch : 1\n",
      "training_loss :  0.000\n",
      "val_accuracy :  100.000\n",
      "val_loss :  0.000\n",
      "\n",
      "Epoch : 2\n",
      "training_loss :  0.000\n",
      "val_accuracy :  100.000\n",
      "val_loss :  0.000\n",
      "\n",
      "Epoch : 3\n",
      "training_loss :  0.000\n",
      "val_accuracy :  100.000\n",
      "val_loss :  0.000\n",
      "\n",
      "Epoch : 4\n",
      "training_loss :  0.000\n",
      "val_accuracy :  100.000\n",
      "val_loss :  0.000\n",
      "\n",
      "Epoch : 5\n",
      "training_loss :  0.000\n",
      "val_accuracy :  100.000\n",
      "val_loss :  0.000\n",
      "\n",
      "Epoch : 6\n",
      "training_loss :  0.000\n",
      "val_accuracy :  100.000\n",
      "val_loss :  0.000\n",
      "\n",
      "Epoch : 7\n",
      "training_loss :  0.000\n",
      "val_accuracy :  100.000\n",
      "val_loss :  0.000\n",
      "\n",
      "Epoch : 8\n"
     ]
    },
    {
     "ename": "KeyboardInterrupt",
     "evalue": "",
     "output_type": "error",
     "traceback": [
      "\u001b[0;31m---------------------------------------------------------------------------\u001b[0m",
      "\u001b[0;31mKeyboardInterrupt\u001b[0m                         Traceback (most recent call last)",
      "\u001b[0;32m<ipython-input-34-263240bbee7e>\u001b[0m in \u001b[0;36m<module>\u001b[0;34m()\u001b[0m\n\u001b[0;32m----> 1\u001b[0;31m \u001b[0mmain\u001b[0m\u001b[0;34m(\u001b[0m\u001b[0;34m)\u001b[0m\u001b[0;34m\u001b[0m\u001b[0m\n\u001b[0m",
      "\u001b[0;32m<ipython-input-33-77bf2db35f13>\u001b[0m in \u001b[0;36mmain\u001b[0;34m()\u001b[0m\n\u001b[1;32m     12\u001b[0m             \u001b[0mmodel\u001b[0m \u001b[0;34m=\u001b[0m \u001b[0mback_prop\u001b[0m\u001b[0;34m(\u001b[0m\u001b[0mmodel\u001b[0m\u001b[0;34m,\u001b[0m\u001b[0mbatch_data\u001b[0m\u001b[0;34m,\u001b[0m\u001b[0ma1\u001b[0m\u001b[0;34m,\u001b[0m\u001b[0ma2\u001b[0m\u001b[0;34m,\u001b[0m\u001b[0mbatch_labels\u001b[0m\u001b[0;34m,\u001b[0m\u001b[0mp\u001b[0m\u001b[0;34m)\u001b[0m\u001b[0;34m\u001b[0m\u001b[0m\n\u001b[1;32m     13\u001b[0m \u001b[0;34m\u001b[0m\u001b[0m\n\u001b[0;32m---> 14\u001b[0;31m         \u001b[0m_\u001b[0m\u001b[0;34m,\u001b[0m\u001b[0m_\u001b[0m\u001b[0;34m,\u001b[0m \u001b[0mp\u001b[0m \u001b[0;34m=\u001b[0m \u001b[0mforward_prop\u001b[0m\u001b[0;34m(\u001b[0m\u001b[0mmodel\u001b[0m\u001b[0;34m,\u001b[0m \u001b[0mX_train\u001b[0m\u001b[0;34m)\u001b[0m\u001b[0;34m\u001b[0m\u001b[0m\n\u001b[0m\u001b[1;32m     15\u001b[0m         \u001b[0mprint\u001b[0m \u001b[0;34m(\u001b[0m\u001b[0;34m'training_loss : % .3f'\u001b[0m \u001b[0;34m%\u001b[0m \u001b[0;34m(\u001b[0m\u001b[0mloss\u001b[0m\u001b[0;34m(\u001b[0m\u001b[0mmodel\u001b[0m\u001b[0;34m,\u001b[0m\u001b[0mp\u001b[0m\u001b[0;34m,\u001b[0m\u001b[0my_train\u001b[0m\u001b[0;34m)\u001b[0m\u001b[0;34m)\u001b[0m\u001b[0;34m)\u001b[0m\u001b[0;34m\u001b[0m\u001b[0m\n\u001b[1;32m     16\u001b[0m         \u001b[0m_\u001b[0m\u001b[0;34m,\u001b[0m\u001b[0m_\u001b[0m\u001b[0;34m,\u001b[0m\u001b[0mp\u001b[0m \u001b[0;34m=\u001b[0m \u001b[0mforward_prop\u001b[0m\u001b[0;34m(\u001b[0m\u001b[0mmodel\u001b[0m\u001b[0;34m,\u001b[0m \u001b[0mX_val\u001b[0m\u001b[0;34m)\u001b[0m\u001b[0;34m\u001b[0m\u001b[0m\n",
      "\u001b[0;32m<ipython-input-29-7d571b54992a>\u001b[0m in \u001b[0;36mforward_prop\u001b[0;34m(model, x)\u001b[0m\n\u001b[1;32m      1\u001b[0m \u001b[0;32mdef\u001b[0m \u001b[0mforward_prop\u001b[0m\u001b[0;34m(\u001b[0m\u001b[0mmodel\u001b[0m\u001b[0;34m,\u001b[0m\u001b[0mx\u001b[0m\u001b[0;34m)\u001b[0m\u001b[0;34m:\u001b[0m\u001b[0;34m\u001b[0m\u001b[0m\n\u001b[0;32m----> 2\u001b[0;31m     \u001b[0mz1\u001b[0m \u001b[0;34m=\u001b[0m \u001b[0mx\u001b[0m\u001b[0;34m.\u001b[0m\u001b[0mdot\u001b[0m\u001b[0;34m(\u001b[0m\u001b[0mmodel\u001b[0m\u001b[0;34m[\u001b[0m\u001b[0;34m'W1'\u001b[0m\u001b[0;34m]\u001b[0m\u001b[0;34m)\u001b[0m \u001b[0;34m+\u001b[0m \u001b[0mmodel\u001b[0m\u001b[0;34m[\u001b[0m\u001b[0;34m'B1'\u001b[0m\u001b[0;34m]\u001b[0m\u001b[0;34m\u001b[0m\u001b[0m\n\u001b[0m\u001b[1;32m      3\u001b[0m     \u001b[0ma1\u001b[0m \u001b[0;34m=\u001b[0m \u001b[0mnp\u001b[0m\u001b[0;34m.\u001b[0m\u001b[0mtanh\u001b[0m\u001b[0;34m(\u001b[0m\u001b[0mz1\u001b[0m\u001b[0;34m)\u001b[0m\u001b[0;34m\u001b[0m\u001b[0m\n\u001b[1;32m      4\u001b[0m     \u001b[0mz2\u001b[0m \u001b[0;34m=\u001b[0m \u001b[0ma1\u001b[0m\u001b[0;34m.\u001b[0m\u001b[0mdot\u001b[0m\u001b[0;34m(\u001b[0m\u001b[0mmodel\u001b[0m\u001b[0;34m[\u001b[0m\u001b[0;34m'W2'\u001b[0m\u001b[0;34m]\u001b[0m\u001b[0;34m)\u001b[0m \u001b[0;34m+\u001b[0m \u001b[0mmodel\u001b[0m\u001b[0;34m[\u001b[0m\u001b[0;34m'B2'\u001b[0m\u001b[0;34m]\u001b[0m\u001b[0;34m\u001b[0m\u001b[0m\n\u001b[1;32m      5\u001b[0m     \u001b[0ma2\u001b[0m \u001b[0;34m=\u001b[0m \u001b[0mnp\u001b[0m\u001b[0;34m.\u001b[0m\u001b[0mtanh\u001b[0m\u001b[0;34m(\u001b[0m\u001b[0mz2\u001b[0m\u001b[0;34m)\u001b[0m\u001b[0;34m\u001b[0m\u001b[0m\n",
      "\u001b[0;31mKeyboardInterrupt\u001b[0m: "
     ]
    }
   ],
   "source": [
    "main()"
   ]
  },
  {
   "cell_type": "code",
   "execution_count": null,
   "metadata": {},
   "outputs": [],
   "source": [
    "plt.figure(0)\n",
    "plt.plot(training_loss,color='blue')\n",
    "plt.plot(val_loss,color='red')\n"
   ]
  },
  {
   "cell_type": "code",
   "execution_count": null,
   "metadata": {},
   "outputs": [],
   "source": []
  }
 ],
 "metadata": {
  "kernelspec": {
   "display_name": "Python 3",
   "language": "python",
   "name": "python3"
  },
  "language_info": {
   "codemirror_mode": {
    "name": "ipython",
    "version": 3
   },
   "file_extension": ".py",
   "mimetype": "text/x-python",
   "name": "python",
   "nbconvert_exporter": "python",
   "pygments_lexer": "ipython3",
   "version": "3.6.5"
  }
 },
 "nbformat": 4,
 "nbformat_minor": 2
}
